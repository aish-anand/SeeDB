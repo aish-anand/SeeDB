{
 "cells": [
  {
   "cell_type": "markdown",
   "metadata": {},
   "source": [
    "# Connect to POSTGRE and create tables"
   ]
  },
  {
   "cell_type": "code",
   "execution_count": 1,
   "metadata": {
    "collapsed": true
   },
   "outputs": [],
   "source": [
    "import psycopg2\n",
    "from psycopg2.extensions import ISOLATION_LEVEL_AUTOCOMMIT # <-- ADD THIS LINE"
   ]
  },
  {
   "cell_type": "code",
   "execution_count": 2,
   "metadata": {
    "collapsed": true
   },
   "outputs": [],
   "source": [
    "from configparser import ConfigParser\n",
    "def config(filename='database.ini', section='postgresql'):\n",
    "    # create a parser\n",
    "    parser = ConfigParser()\n",
    "    # read config file\n",
    "    parser.read(filename)\n",
    " \n",
    "    # get section, default to postgresql\n",
    "    db = {}\n",
    "    if parser.has_section(section):\n",
    "        params = parser.items(section)\n",
    "        for param in params:\n",
    "            db[param[0]] = param[1]\n",
    "    else:\n",
    "        raise Exception('Section {0} not found in the {1} file'.format(section, filename))\n",
    " \n",
    "    return db"
   ]
  },
  {
   "cell_type": "code",
   "execution_count": 3,
   "metadata": {
    "collapsed": true
   },
   "outputs": [],
   "source": [
    "def connect():\n",
    "    \"\"\" Connect to the PostgreSQL database server returns connection \"\"\"\n",
    "    conn = None\n",
    "    try:\n",
    "        # read connection parameters\n",
    "        params = config()\n",
    " \n",
    "        # connect to the PostgreSQL server\n",
    "        print('Connecting to the PostgreSQL database...')\n",
    "        conn = psycopg2.connect(**params)\n",
    " \n",
    "        # create a cursor\n",
    "        cur = conn.cursor()\n",
    "        \n",
    " # execute a statement\n",
    "        print('PostgreSQL database version:')\n",
    "        cur.execute('SELECT version()')\n",
    " \n",
    "        # display the PostgreSQL database server version\n",
    "        db_version = cur.fetchone()\n",
    "        print(db_version)\n",
    "       \n",
    "     # close the communication with the PostgreSQL\n",
    "        cur.close()\n",
    "    except (Exception, psycopg2.DatabaseError) as error:\n",
    "        print(error)\n",
    "    finally:\n",
    "        return conn;"
   ]
  },
  {
   "cell_type": "code",
   "execution_count": 4,
   "metadata": {
    "collapsed": true
   },
   "outputs": [],
   "source": [
    "def create_tables(conn):\n",
    "    \"\"\" create tables in the PostgreSQL database and load data from csv\"\"\"\n",
    "    commands = (\n",
    "        \"\"\"\n",
    "        CREATE TABLE adult (\n",
    "            age INTEGER,\n",
    "            workclass VARCHAR,\n",
    "            fnlwgt integer,\n",
    "            education varchar,\n",
    "            education_num integer,\n",
    "            marital_status varchar,\n",
    "            occupation varchar,\n",
    "            relationship varchar,\n",
    "            race varchar,\n",
    "            sex varchar,\n",
    "            capital_gain integer,\n",
    "            capital_loss integer,\n",
    "            hours_per_week integer,\n",
    "            native_country varchar,\n",
    "            data_class varchar\n",
    "        )\n",
    "        \"\"\",\n",
    "        \"\"\"\n",
    "        copy public.adult (\n",
    "            age,\n",
    "            workclass,\n",
    "            fnlwgt,\n",
    "            education,\n",
    "            education_num,\n",
    "            marital_status,\n",
    "            occupation,\n",
    "            relationship,\n",
    "            race,\n",
    "            sex,\n",
    "            capital_gain,\n",
    "            capital_loss,\n",
    "            hours_per_week,\n",
    "            native_country,\n",
    "            data_class\n",
    "        ) \n",
    "        FROM 'D:/UMass/Spring 18/645/SeeDB/adult_data.csv' \n",
    "        DELIMITER ',' CSV ENCODING 'UTF8';\n",
    "        \"\"\")\n",
    "    conn = None\n",
    "    try:\n",
    "        # read the connection parameters\n",
    "        params = config()\n",
    "        # connect to the PostgreSQL server\n",
    "#         conn = psycopg2.connect(**params)\n",
    "        cur = conn.cursor()\n",
    "        # create table one by one\n",
    "        for command in commands:\n",
    "            cur.execute(command)\n",
    "        # close communication with the PostgreSQL database server\n",
    "        cur.close()\n",
    "        # commit the changes\n",
    "        conn.commit()\n",
    "    except (Exception, psycopg2.DatabaseError) as error:\n",
    "        print(error)"
   ]
  },
  {
   "cell_type": "code",
   "execution_count": 5,
   "metadata": {
    "collapsed": true
   },
   "outputs": [],
   "source": [
    "def create_views(conn):\n",
    "    \"\"\" create views of married and unmarried, split into 10 subsets for phases\"\"\"\n",
    "    commands = (\n",
    "        \"\"\"\n",
    "        CREATE VIEW Married \n",
    "        AS SELECT * \n",
    "        FROM adult\n",
    "        WHERE marital_status IN (' Married-AF-spouse', ' Married-civ-spouse', ' Married-spouse-absent', ' Separated')\n",
    "        \"\"\",\n",
    "        \"\"\"\n",
    "        CREATE VIEW Unmarried \n",
    "        AS SELECT * \n",
    "        FROM adult\n",
    "        WHERE marital_status IN (' Never-married', ' Widowed', ' Divorced')\n",
    "        \"\"\"\n",
    "    )\n",
    "    conn = None\n",
    "    try:\n",
    "        # read the connection parameters\n",
    "        params = config()\n",
    "        # connect to the PostgreSQL server\n",
    "#         conn = psycopg2.connect(**params)\n",
    "        cur = conn.cursor()\n",
    "        # create table one by one\n",
    "        for command in commands:\n",
    "            cur.execute(command)\n",
    "        # close communication with the PostgreSQL database server\n",
    "        cur.close()\n",
    "        # commit the changes\n",
    "        conn.commit()\n",
    "    except (Exception, psycopg2.DatabaseError) as error:\n",
    "        print(error)"
   ]
  },
  {
   "cell_type": "code",
   "execution_count": 6,
   "metadata": {
    "collapsed": true
   },
   "outputs": [],
   "source": [
    "def close_connection(conn):\n",
    "    \"\"\" Close postgres connection\"\"\"\n",
    "    try:\n",
    "        if conn is not None:\n",
    "            conn.close()\n",
    "    except (Exception, psycopg2.DatabaseError) as error:\n",
    "        print(error)"
   ]
  },
  {
   "cell_type": "code",
   "execution_count": 7,
   "metadata": {
    "collapsed": true
   },
   "outputs": [],
   "source": [
    "a = [\"workclass\", \"education\", \"occupation\", \"relationship\", \"race\", \"sex\", \"native_country\",\"data_class\"]\n",
    "m = [\"age\", \"fnlwgt\", \"hours_per_week\", \"capital_gain\", \"capital_loss\"]\n",
    "f = [\"avg\", \"sum\", \"min\", \"max\", \"count\"]"
   ]
  },
  {
   "cell_type": "code",
   "execution_count": 8,
   "metadata": {
    "collapsed": true
   },
   "outputs": [],
   "source": [
    "tuples = [(x, m, f) for x in a]"
   ]
  },
  {
   "cell_type": "code",
   "execution_count": 9,
   "metadata": {
    "scrolled": true
   },
   "outputs": [
    {
     "name": "stderr",
     "output_type": "stream",
     "text": [
      "C:\\Users\\Admin\\Anaconda2\\lib\\site-packages\\ipykernel_launcher.py:6: DeprecationWarning: You passed a bytestring as `filenames`. This will not work on Python 3. Use `cp.read_file()` or switch to using Unicode strings across the board.\n",
      "  \n"
     ]
    },
    {
     "name": "stdout",
     "output_type": "stream",
     "text": [
      "Connecting to the PostgreSQL database...\n",
      "PostgreSQL database version:\n",
      "('PostgreSQL 10.2, compiled by Visual C++ build 1800, 64-bit',)\n",
      "('Number of rows in table ', 29933L)\n",
      "('Number of phases ', 10)\n",
      "('Size of each phase ', 2994L)\n"
     ]
    }
   ],
   "source": [
    "conn = connect()\n",
    "cur = conn.cursor()\n",
    "\n",
    "#find total rows in db then split into 10 phase - size of each phase\n",
    "cur.execute(\"SELECT COUNT(age) FROM adult;\")\n",
    "num_of_rows = cur.fetchall()[0][0];\n",
    "print(\"Number of rows in table \", num_of_rows)\n",
    "phase = 10\n",
    "size = num_of_rows/phase+1;\n",
    "print(\"Number of phases \", phase)\n",
    "print(\"Size of each phase \", size)\n",
    "\n",
    "#query from adult\n",
    "cur.execute(\"SELECT * FROM adult;\")\n",
    "cur2 = conn.cursor()\n",
    "# for i in ['a_'+`i` for i in range(10)]:\n",
    "for i in range(10):\n",
    "    create_tbl = \"CREATE TEMP TABLE a_\" + str(i) + \" (age INTEGER,workclass VARCHAR,fnlwgt integer,education varchar, education_num integer, marital_status varchar, occupation varchar, relationship varchar, race varchar, sex varchar, capital_gain integer, capital_loss integer, hours_per_week integer,native_country varchar,data_class varchar);\"\n",
    "    cur2.execute(create_tbl)\n",
    "    commands = \"INSERT INTO a_\"+ str(i) +\" VALUES(%s, %s, %s,%s, %s, %s, %s, %s, %s, %s, %s, %s, %s, %s, %s);\"\n",
    "    results = cur.fetchmany(size) #fetching every size-rows from adult\n",
    "    for result in results:\n",
    "        #add to view i \n",
    "#         print(result)\n",
    "        cur2.execute(commands,result)"
   ]
  },
  {
   "cell_type": "code",
   "execution_count": 10,
   "metadata": {
    "collapsed": true
   },
   "outputs": [],
   "source": [
    "#closing connection or cur2 will result in dropping temp tables!"
   ]
  },
  {
   "cell_type": "markdown",
   "metadata": {},
   "source": [
    "### Pruning Optimization"
   ]
  },
  {
   "cell_type": "code",
   "execution_count": 11,
   "metadata": {
    "collapsed": true
   },
   "outputs": [],
   "source": [
    "from sklearn.preprocessing import normalize\n",
    "import scipy\n",
    "import numpy as np\n",
    "view_distances = {}\n",
    "num_of_phases = 1"
   ]
  },
  {
   "cell_type": "code",
   "execution_count": 12,
   "metadata": {
    "collapsed": true
   },
   "outputs": [],
   "source": [
    "def normalization(row):\n",
    "    \"\"\"\n",
    "    Function to normalize the f(m) column\n",
    "    :param rows:\n",
    "    :return:\n",
    "    \"\"\"\n",
    "    new_row = []\n",
    "    for val in row:\n",
    "        if(val is not None):\n",
    "            new_row.append(val)\n",
    "    new_row = np.array(new_row)\n",
    "    return normalize(new_row[:,np.newaxis], axis=0).ravel()"
   ]
  },
  {
   "cell_type": "code",
   "execution_count": 13,
   "metadata": {
    "collapsed": true
   },
   "outputs": [],
   "source": [
    "def compute_KL_divergence(target,reference):\n",
    "    if(len(target)==len(reference)):\n",
    "        return scipy.stats.entropy(target,reference)\n",
    "    else:\n",
    "        return 0"
   ]
  },
  {
   "cell_type": "code",
   "execution_count": 14,
   "metadata": {
    "collapsed": true
   },
   "outputs": [],
   "source": [
    "def execute_query(conn,query):  \n",
    "    cur = conn.cursor()\n",
    "    cur.execute(query)\n",
    "    rows = cur.fetchall()\n",
    "    cur.close()    \n",
    "    return np.array(rows).T"
   ]
  },
  {
   "cell_type": "code",
   "execution_count": 15,
   "metadata": {
    "collapsed": true
   },
   "outputs": [],
   "source": [
    "import math"
   ]
  },
  {
   "cell_type": "code",
   "execution_count": 16,
   "metadata": {
    "collapsed": true
   },
   "outputs": [],
   "source": [
    "def get_mean(view_distances):\n",
    "    mean_dict = {}\n",
    "    my_values = []\n",
    "    for key, value in view_distances.items():\n",
    "        for v in value:\n",
    "            if not math.isinf(v):\n",
    "                my_values.append(v)\n",
    "        mean_dict[key] = (np.mean(my_values),np.std(my_values))\n",
    "    return mean_dict"
   ]
  },
  {
   "cell_type": "code",
   "execution_count": 17,
   "metadata": {
    "collapsed": true
   },
   "outputs": [],
   "source": [
    "def get_confidence_interval(m, mu):\n",
    "    delta = 0.95\n",
    "    n = phase\n",
    "    term1 = 1 - (m-1)/n\n",
    "    print m\n",
    "    print math.log(m)\n",
    "    term2 = 2 * math.log(math.log(m))\n",
    "    term3 = math.log((3.14*3.14)/(3*delta))\n",
    "    numerator = term1 * (term2 + term3)\n",
    "    denominator = 2 * m\n",
    "    epsilon = math.sqrt(numerator/denominator)\n",
    "    confidence_interval = [mu-epsilon, mu+epsilon]\n",
    "    return confidence_interval\n"
   ]
  },
  {
   "cell_type": "code",
   "execution_count": 18,
   "metadata": {
    "collapsed": true
   },
   "outputs": [],
   "source": [
    "def prune(view_distances, m, phase):\n",
    "    views_CI_dict = {}\n",
    "    ci_dict = {}\n",
    "    prunedViews = []\n",
    "    mean_dict = get_mean(view_distances)\n",
    "    for key, value in mean_dict.items():\n",
    "        ci_dict[key] = scipy.stats.norm.interval(0.95, loc=value[0], scale=value[1])\n",
    "    ci_dict_copy = ci_dict.copy()\n",
    "    viewItems = list(ci_dict_copy)\n",
    "    viewItems.sort(key = lambda x:x[1][1])\n",
    "    topFiveViews = viewItems[-5:]\n",
    "    topFiveViews.sort(key = lambda x:x[1][0])\n",
    "    lowestLowerBound =topFiveViews[:1][0][1][0]\n",
    "    key_topFiveViews =[k for k in topFiveViews]\n",
    "    for key, value in ci_dict_copy.items():\n",
    "        if(value[0] < lowestLowerBound and key not in key_topFiveViews):\n",
    "            ci_dict_copy.pop(key)\n",
    "            view_distances.pop(key)\n",
    "    return view_distances"
   ]
  },
  {
   "cell_type": "code",
   "execution_count": 19,
   "metadata": {
    "collapsed": true
   },
   "outputs": [],
   "source": [
    "def share_opt(conn):\n",
    "    view_distances = {}\n",
    "    # Phase 0\n",
    "    for a,measures,functions in tuples:\n",
    "         for m in measures:\n",
    "            for f in functions:\n",
    "                view_distances[(a,m,f)] = []\n",
    "                target_command =\"select {},{}({}) from a_{} where marital_status IN (' Married-AF-spouse', ' Married-civ-spouse', ' Married-spouse-absent', ' Separated') group  by {}\".format(a,f,m,0,a)\n",
    "                reference_command = \"select {},{}({}) from a_{} WHERE marital_status IN (' Never-married', ' Widowed', ' Divorced') group  by {}\".format(a,f,m,0,a)\n",
    "                target_array = execute_query(conn,target_command)\n",
    "                reference_array = execute_query(conn,reference_command)\n",
    "                view_distances[(a,m,f)].append(compute_KL_divergence(normalization(target_array[1]), normalization(reference_array[1])))\n",
    "    view_distances = prune(view_distances, 1, phase)\n",
    "    for i in range(1, phase):\n",
    "        for key, value in view_distances.items():\n",
    "                a = key[0]\n",
    "                m = key[1]\n",
    "                f = key[2]\n",
    "                target_command =\"select {},{}({}) from a_{} where marital_status IN (' Married-AF-spouse', ' Married-civ-spouse', ' Married-spouse-absent', ' Separated') group  by {}\".format(a,f,m,i,a)\n",
    "                reference_command = \"select {},{}({}) from a_{} WHERE marital_status IN (' Never-married', ' Widowed', ' Divorced') group  by {}\".format(a,f,m,i,a)\n",
    "                reference_array = execute_query(conn,reference_command)\n",
    "                view_distances[(a,m,f)].append(compute_KL_divergence(normalization(target_array[1]), normalization(reference_array[1])))        \n",
    "                if(i!=phase-1):\n",
    "                    view_distances = prune(view_distances, i+1, phase)\n",
    "    return view_distances\n",
    "        \n",
    "        \n",
    "        \n",
    "        "
   ]
  },
  {
   "cell_type": "code",
   "execution_count": 20,
   "metadata": {
    "scrolled": false
   },
   "outputs": [
    {
     "name": "stderr",
     "output_type": "stream",
     "text": [
      "C:\\Users\\Admin\\Anaconda2\\lib\\site-packages\\scipy\\stats\\_distn_infrastructure.py:2505: RuntimeWarning: invalid value encountered in true_divide\n",
      "  pk = 1.0*pk / np.sum(pk, axis=0)\n",
      "C:\\Users\\Admin\\Anaconda2\\lib\\site-packages\\scipy\\stats\\_distn_infrastructure.py:2512: RuntimeWarning: invalid value encountered in true_divide\n",
      "  qk = 1.0*qk / np.sum(qk, axis=0)\n",
      "C:\\Users\\Admin\\Anaconda2\\lib\\site-packages\\scipy\\stats\\_distn_infrastructure.py:1907: RuntimeWarning: invalid value encountered in multiply\n",
      "  lower_bound = self.a * scale + loc\n",
      "C:\\Users\\Admin\\Anaconda2\\lib\\site-packages\\scipy\\stats\\_distn_infrastructure.py:1908: RuntimeWarning: invalid value encountered in multiply\n",
      "  upper_bound = self.b * scale + loc\n",
      "C:\\Users\\Admin\\Anaconda2\\lib\\site-packages\\ipykernel_launcher.py:16: DeprecationWarning: unorderable dtypes; returning scalar but in the future this will be an error\n",
      "  app.launch_new_instance()\n"
     ]
    },
    {
     "name": "stdout",
     "output_type": "stream",
     "text": [
      "('race', 'hours_per_week', 'avg')\n",
      "[0.0017189504469477747, 0, 0, 0, 0, 0, 0, 0, 0, 0]\n",
      "('data_class', 'hours_per_week', 'max')\n",
      "[0.0085249160277568806, 0.00055039133792055342, 0.0041892080024039519, 0.00054232321500322783, 0.0041892080024039519, 0.00054232321500322783, 0.00054232321500322783, 0.0041892080024039519, 0.009671128861736239, 0.009671128861736239]\n",
      "('race', 'hours_per_week', 'count')\n",
      "[0.018818956934680629, 0, 0, 0, 0, 0, 0, 0, 0, 0]\n",
      "('relationship', 'hours_per_week', 'avg')\n",
      "[0, 0, 0, 0, 0, 0, 0, 0, 0, 0]\n",
      "('education', 'hours_per_week', 'min')\n",
      "[0.69494322461374769, 0, 0, 0, 0, 0, 0, 0, 0, 0]\n"
     ]
    }
   ],
   "source": [
    "top5_views = share_opt(conn)\n",
    "for key , value in top5_views.items():\n",
    "    print key\n",
    "    print value\n"
   ]
  },
  {
   "cell_type": "code",
   "execution_count": 21,
   "metadata": {
    "collapsed": true
   },
   "outputs": [],
   "source": [
    "import operator\n",
    "A = {'a':(10,11), 'b':(843,999), 'c': (39,99), 'd':(40,63), 'e':(55,79), 'f':(9,10), 'g': (22,55), 'x' : (10, 99999)}\n",
    "copyA = {'a':(10,11), 'b':(843,999), 'c': (39,99), 'd':(40,63), 'e':(55,79), 'f':(9,10), 'g': (22,55), 'x' : (10, 99999)}\n",
    "newA = dict(sorted(A.iteritems(), key=operator.itemgetter(1), reverse=True)[:5])"
   ]
  },
  {
   "cell_type": "code",
   "execution_count": 22,
   "metadata": {},
   "outputs": [
    {
     "name": "stdout",
     "output_type": "stream",
     "text": [
      "[('f', (9, 10)), ('a', (10, 11)), ('g', (22, 55)), ('d', (40, 63)), ('e', (55, 79)), ('c', (39, 99)), ('b', (843, 999)), ('x', (10, 99999))]\n",
      "[('x', (10, 99999)), ('c', (39, 99)), ('d', (40, 63)), ('e', (55, 79)), ('b', (843, 999))]\n"
     ]
    }
   ],
   "source": [
    "b = copyA.items()\n",
    "b.sort(key = lambda x:x[1][1])\n",
    "print b\n",
    "top5 = b[-5:]\n",
    "top5.sort(key = lambda x:x[1][0])\n",
    "print(top5)"
   ]
  },
  {
   "cell_type": "code",
   "execution_count": 23,
   "metadata": {},
   "outputs": [
    {
     "name": "stdout",
     "output_type": "stream",
     "text": [
      "[('x', (10, 99999)), ('c', (39, 99)), ('d', (40, 63)), ('e', (55, 79)), ('b', (843, 999))]\n",
      "[('x', (10, 99999))]\n",
      "10\n",
      "10\n",
      "22\n",
      "9\n",
      "{'a': (10, 11), 'c': (39, 99), 'b': (843, 999), 'e': (55, 79), 'd': (40, 63), 'g': (22, 55), 'f': (9, 10), 'x': (10, 99999)}\n",
      "{'a': (10, 11), 'g': (22, 55)}\n"
     ]
    }
   ],
   "source": [
    "prunedViews = []\n",
    "print(top5)\n",
    "print(top5[:1])\n",
    "lowestLowerBound = top5[:1][0][1][0]\n",
    "print lowestLowerBound\n",
    "key_top5 ={k[0] for k in top5}\n",
    "for key in key_top5:\n",
    "    copyA.pop(key, None)\n",
    "for key, value in copyA.items():\n",
    "    print value[0]\n",
    "    if(value[0] < lowestLowerBound):\n",
    "        copyA.pop(key)\n",
    "print(A)\n",
    "print(copyA)"
   ]
  },
  {
   "cell_type": "markdown",
   "metadata": {},
   "source": [
    "### Visualize Top 5"
   ]
  },
  {
   "cell_type": "code",
   "execution_count": 86,
   "metadata": {},
   "outputs": [],
   "source": [
    "import matplotlib.pyplot as plt\n",
    "#import matplotlib.pyplot as plt2\n",
    "def draw_viz(conn, target, reference ,title, y_axis, x_axis):\n",
    "#     print(\"Conn \", conn)\n",
    "#     print(\"Target \", target)\n",
    "#     print(\"ref \", reference)\n",
    "#     print(\"title \", title)\n",
    "#     print(\"y axis \", y_axis)\n",
    "#     print(\"x_axis \", x_axis)\n",
    "    # Setting the positions and width for the bars\n",
    "    width = 0.25 \n",
    "\n",
    "    target_values = list(target[1])\n",
    "    ref_values = list(reference[1])\n",
    "    if(len(target[1]) < len(reference[1])):\n",
    "        diff = len(reference[1]) - len(target[1])  \n",
    "        for i in range(diff):\n",
    "            target_values.append(0)\n",
    "    else:\n",
    "        diff = len(target[1]) - len(reference[1])\n",
    "        for i in range(diff):\n",
    "            ref_values.append(0)\n",
    "    \n",
    "    pos = list(range(len(target_values)))\n",
    "    # Plotting the bars\n",
    "    fig, ax = plt.subplots()\n",
    "\n",
    "    # Create a bar with pre_score data,\n",
    "    # in position pos,\n",
    "    plt.bar(pos, \n",
    "            #using df['pre_score'] data,\n",
    "            target_values, \n",
    "            # of width\n",
    "            width, \n",
    "            # with alpha 0.5\n",
    "            alpha=0.5, \n",
    "            # with color\n",
    "            color='blue') \n",
    "\n",
    "    # Create a bar with mid_score data,\n",
    "    # in position pos + some width buffer,\n",
    "    plt.bar([p + width for p in pos], \n",
    "            #using df['mid_score'] data,\n",
    "            ref_values,\n",
    "            # of width\n",
    "            width, \n",
    "            # with alpha 0.5\n",
    "            alpha=0.5, \n",
    "            # with color\n",
    "            color='lightblue') \n",
    "\n",
    "\n",
    "    # Set the y axis label\n",
    "    ax.set_ylabel('Score')\n",
    "\n",
    "    # Set the chart's title\n",
    "    ax.set_title(title)\n",
    "\n",
    "    # Set the position of the x ticks\n",
    "    ax.set_xticks([p + 1.5 * width for p in pos])\n",
    "\n",
    "    # Set the labels for the x ticks\n",
    "    ax.set_xticklabels(target[0], rotation =\"vertical\")\n",
    "\n",
    "    # Setting the x-axis and y-axis limits\n",
    "    plt.xlim(min(pos)-width, max(pos)+width*4)\n",
    "#     plt.ylim([0,max(max(target_values), max(ref_values))] )\n",
    "\n",
    "    # Adding the legend and showing the plot\n",
    "    plt.legend(['Married', 'Unmarried'], loc='upper left')\n",
    "    plt.grid()\n",
    "    plt.show()"
   ]
  },
  {
   "cell_type": "code",
   "execution_count": 87,
   "metadata": {
    "scrolled": false
   },
   "outputs": [
    {
     "data": {
      "image/png": "[encoded data removed]",
      "text/plain": [
       "<matplotlib.figure.Figure at 0xe814ac8>"
      ]
     },
     "metadata": {},
     "output_type": "display_data"
    },
    {
     "data": {
      "image/png": "[encoded data removed]",
      "text/plain": [
       "<matplotlib.figure.Figure at 0xe814400>"
      ]
     },
     "metadata": {},
     "output_type": "display_data"
    },
    {
     "data": {
      "image/png": "[encoded data removed]",
      "text/plain": [
       "<matplotlib.figure.Figure at 0xe418198>"
      ]
     },
     "metadata": {},
     "output_type": "display_data"
    },
    {
     "data": {
      "image/png": "[encoded data removed]",
      "text/plain": [
       "<matplotlib.figure.Figure at 0xe80a6d8>"
      ]
     },
     "metadata": {},
     "output_type": "display_data"
    },
    {
     "data": {
      "image/png": "[encoded data removed]",
      "text/plain": [
       "<matplotlib.figure.Figure at 0xdb36710>"
      ]
     },
     "metadata": {},
     "output_type": "display_data"
    }
   ],
   "source": [
    "for key , value in top5_views.items():\n",
    "    a = key[0]\n",
    "    m = key[1]\n",
    "    f = key[2]\n",
    "#     print key , value\n",
    "    target_command =\"select {},{}({}) from a_{} where marital_status IN (' Married-AF-spouse', ' Married-civ-spouse', ' Married-spouse-absent', ' Separated') group  by {}\".format(a,f,m,0,a)\n",
    "    reference_command = \"select {},{}({}) from a_{} WHERE marital_status IN (' Never-married', ' Widowed', ' Divorced') group  by {}\".format(a,f,m,0,a)\n",
    "    target_array = execute_query(conn,target_command)\n",
    "    reference_array = execute_query(conn,reference_command)\n",
    "#     print target_array\n",
    "#     print reference_array\n",
    "    draw_viz(conn, target_array, reference_array ,\"Married vs Unmarried\", f + \"(\"+ m +\")\", a)\n"
   ]
  }
 ],
 "metadata": {
  "kernelspec": {
   "display_name": "Python 2",
   "language": "python",
   "name": "python2"
  }
 },
 "nbformat": 4,
 "nbformat_minor": 2
}
