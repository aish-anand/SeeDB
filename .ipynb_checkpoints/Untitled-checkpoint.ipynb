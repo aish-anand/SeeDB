{
 "cells": [
  {
   "cell_type": "markdown",
   "metadata": {},
   "source": [
    "# Connect to POSTGRE and create tables"
   ]
  },
  {
   "cell_type": "code",
   "execution_count": 463,
   "metadata": {
    "collapsed": true
   },
   "outputs": [],
   "source": [
    "import psycopg2\n",
    "from psycopg2.extensions import ISOLATION_LEVEL_AUTOCOMMIT # <-- ADD THIS LINE"
   ]
  },
  {
   "cell_type": "code",
   "execution_count": 464,
   "metadata": {
    "collapsed": true
   },
   "outputs": [],
   "source": [
    "from configparser import ConfigParser\n",
    "def config(filename='database.ini', section='postgresql'):\n",
    "    # create a parser\n",
    "    parser = ConfigParser()\n",
    "    # read config file\n",
    "    parser.read(filename)\n",
    " \n",
    "    # get section, default to postgresql\n",
    "    db = {}\n",
    "    if parser.has_section(section):\n",
    "        params = parser.items(section)\n",
    "        for param in params:\n",
    "            db[param[0]] = param[1]\n",
    "    else:\n",
    "        raise Exception('Section {0} not found in the {1} file'.format(section, filename))\n",
    " \n",
    "    return db"
   ]
  },
  {
   "cell_type": "code",
   "execution_count": 465,
   "metadata": {
    "collapsed": true
   },
   "outputs": [],
   "source": [
    "def connect():\n",
    "    \"\"\" Connect to the PostgreSQL database server returns connection \"\"\"\n",
    "    conn = None\n",
    "    try:\n",
    "        # read connection parameters\n",
    "        params = config()\n",
    " \n",
    "        # connect to the PostgreSQL server\n",
    "        print('Connecting to the PostgreSQL database...')\n",
    "        conn = psycopg2.connect(**params)\n",
    " \n",
    "        # create a cursor\n",
    "        cur = conn.cursor()\n",
    "        \n",
    " # execute a statement\n",
    "        print('PostgreSQL database version:')\n",
    "        cur.execute('SELECT version()')\n",
    " \n",
    "        # display the PostgreSQL database server version\n",
    "        db_version = cur.fetchone()\n",
    "        print(db_version)\n",
    "       \n",
    "     # close the communication with the PostgreSQL\n",
    "        cur.close()\n",
    "    except (Exception, psycopg2.DatabaseError) as error:\n",
    "        print(error)\n",
    "    finally:\n",
    "        return conn;"
   ]
  },
  {
   "cell_type": "code",
   "execution_count": 466,
   "metadata": {
    "collapsed": true
   },
   "outputs": [],
   "source": [
    "def create_tables(conn):\n",
    "    \"\"\" create tables in the PostgreSQL database and load data from csv\"\"\"\n",
    "    commands = (\n",
    "        \"\"\"\n",
    "        CREATE TABLE adult (\n",
    "            age INTEGER,\n",
    "            workclass VARCHAR,\n",
    "            fnlwgt integer,\n",
    "            education varchar,\n",
    "            education_num integer,\n",
    "            marital_status varchar,\n",
    "            occupation varchar,\n",
    "            relationship varchar,\n",
    "            race varchar,\n",
    "            sex varchar,\n",
    "            capital_gain integer,\n",
    "            capital_loss integer,\n",
    "            hours_per_week integer,\n",
    "            native_country varchar,\n",
    "            data_class varchar\n",
    "        )\n",
    "        \"\"\",\n",
    "        \"\"\"\n",
    "        copy public.adult (\n",
    "            age,\n",
    "            workclass,\n",
    "            fnlwgt,\n",
    "            education,\n",
    "            education_num,\n",
    "            marital_status,\n",
    "            occupation,\n",
    "            relationship,\n",
    "            race,\n",
    "            sex,\n",
    "            capital_gain,\n",
    "            capital_loss,\n",
    "            hours_per_week,\n",
    "            native_country,\n",
    "            data_class\n",
    "        ) \n",
    "        FROM 'D:/UMass/Spring 18/645/SeeDB/adult_data.csv' \n",
    "        DELIMITER ',' CSV ENCODING 'UTF8';\n",
    "        \"\"\")\n",
    "    conn = None\n",
    "    try:\n",
    "        # read the connection parameters\n",
    "        params = config()\n",
    "        # connect to the PostgreSQL server\n",
    "#         conn = psycopg2.connect(**params)\n",
    "        cur = conn.cursor()\n",
    "        # create table one by one\n",
    "        for command in commands:\n",
    "            cur.execute(command)\n",
    "        # close communication with the PostgreSQL database server\n",
    "        cur.close()\n",
    "        # commit the changes\n",
    "        conn.commit()\n",
    "    except (Exception, psycopg2.DatabaseError) as error:\n",
    "        print(error)"
   ]
  },
  {
   "cell_type": "code",
   "execution_count": 467,
   "metadata": {
    "collapsed": true
   },
   "outputs": [],
   "source": [
    "def create_views(conn):\n",
    "    \"\"\" create views of married and unmarried, split into 10 subsets for phases\"\"\"\n",
    "    commands = (\n",
    "        \"\"\"\n",
    "        CREATE VIEW Married \n",
    "        AS SELECT * \n",
    "        FROM adult\n",
    "        WHERE marital_status IN (' Married-AF-spouse', ' Married-civ-spouse', ' Married-spouse-absent', ' Separated')\n",
    "        \"\"\",\n",
    "        \"\"\"\n",
    "        CREATE VIEW Unmarried \n",
    "        AS SELECT * \n",
    "        FROM adult\n",
    "        WHERE marital_status IN (' Never-married', ' Widowed', ' Divorced')\n",
    "        \"\"\"\n",
    "    )\n",
    "    conn = None\n",
    "    try:\n",
    "        # read the connection parameters\n",
    "        params = config()\n",
    "        # connect to the PostgreSQL server\n",
    "#         conn = psycopg2.connect(**params)\n",
    "        cur = conn.cursor()\n",
    "        # create table one by one\n",
    "        for command in commands:\n",
    "            cur.execute(command)\n",
    "        # close communication with the PostgreSQL database server\n",
    "        cur.close()\n",
    "        # commit the changes\n",
    "        conn.commit()\n",
    "    except (Exception, psycopg2.DatabaseError) as error:\n",
    "        print(error)"
   ]
  },
  {
   "cell_type": "code",
   "execution_count": 468,
   "metadata": {
    "collapsed": true
   },
   "outputs": [],
   "source": [
    "def close_connection(conn):\n",
    "    \"\"\" Close postgres connection\"\"\"\n",
    "    try:\n",
    "        if conn is not None:\n",
    "            conn.close()\n",
    "    except (Exception, psycopg2.DatabaseError) as error:\n",
    "        print(error)"
   ]
  },
  {
   "cell_type": "code",
   "execution_count": 469,
   "metadata": {
    "collapsed": true
   },
   "outputs": [],
   "source": [
    "a = [\"workclass\", \"education\", \"occupation\", \"relationship\", \"race\", \"sex\", \"native_country\",\"data_class\"]\n",
    "m = [\"age\", \"fnlwgt\", \"hours_per_week\", \"capital_gain\", \"capital_loss\"]\n",
    "f = [\"avg\", \"sum\", \"min\", \"max\", \"count\"]"
   ]
  },
  {
   "cell_type": "code",
   "execution_count": 470,
   "metadata": {
    "collapsed": true
   },
   "outputs": [],
   "source": [
    "tuples = [(x, m, f) for x in a]"
   ]
  },
  {
   "cell_type": "code",
   "execution_count": 472,
   "metadata": {
    "scrolled": true
   },
   "outputs": [
    {
     "name": "stderr",
     "output_type": "stream",
     "text": [
      "C:\\Users\\rsarm\\Anaconda2\\lib\\site-packages\\ipykernel_launcher.py:6: DeprecationWarning: You passed a bytestring as `filenames`. This will not work on Python 3. Use `cp.read_file()` or switch to using Unicode strings across the board.\n",
      "  \n"
     ]
    },
    {
     "name": "stdout",
     "output_type": "stream",
     "text": [
      "Connecting to the PostgreSQL database...\n",
      "PostgreSQL database version:\n",
      "('PostgreSQL 10.1, compiled by Visual C++ build 1800, 64-bit',)\n",
      "('Number of rows in table ', 29933L)\n",
      "('Number of phases ', 10)\n",
      "('Size of each phase ', 2994L)\n"
     ]
    }
   ],
   "source": [
    "conn = connect()\n",
    "cur = conn.cursor()\n",
    "\n",
    "#find total rows in db then split into 10 phase - size of each phase\n",
    "cur.execute(\"SELECT COUNT(age) FROM adult;\")\n",
    "num_of_rows = cur.fetchall()[0][0];\n",
    "print(\"Number of rows in table \", num_of_rows)\n",
    "phase = 10\n",
    "size = num_of_rows/phase+1;\n",
    "print(\"Number of phases \", phase)\n",
    "print(\"Size of each phase \", size)\n",
    "\n",
    "#query from adult\n",
    "cur.execute(\"SELECT * FROM adult;\")\n",
    "cur2 = conn.cursor()\n",
    "# for i in ['a_'+`i` for i in range(10)]:\n",
    "for i in range(10):\n",
    "    create_tbl = \"CREATE TEMP TABLE a_\" + str(i) + \" (age INTEGER,workclass VARCHAR,fnlwgt integer,education varchar, education_num integer, marital_status varchar, occupation varchar, relationship varchar, race varchar, sex varchar, capital_gain integer, capital_loss integer, hours_per_week integer,native_country varchar,data_class varchar);\"\n",
    "    cur2.execute(create_tbl)\n",
    "    commands = \"INSERT INTO a_\"+ str(i) +\" VALUES(%s, %s, %s,%s, %s, %s, %s, %s, %s, %s, %s, %s, %s, %s, %s);\"\n",
    "    results = cur.fetchmany(size) #fetching every size-rows from adult\n",
    "    for result in results:\n",
    "        #add to view i \n",
    "#         print(result)\n",
    "        cur2.execute(commands,result)"
   ]
  },
  {
   "cell_type": "code",
   "execution_count": 473,
   "metadata": {
    "collapsed": true
   },
   "outputs": [],
   "source": [
    "#closing connection or cur2 will result in dropping temp tables!"
   ]
  },
  {
   "cell_type": "markdown",
   "metadata": {},
   "source": [
    "### Pruning Optimization"
   ]
  },
  {
   "cell_type": "code",
   "execution_count": 474,
   "metadata": {
    "collapsed": true
   },
   "outputs": [],
   "source": [
    "from sklearn.preprocessing import normalize\n",
    "import scipy\n",
    "import numpy as np\n",
    "view_distances = {}\n",
    "num_of_phases = 1"
   ]
  },
  {
   "cell_type": "code",
   "execution_count": 475,
   "metadata": {
    "collapsed": true
   },
   "outputs": [],
   "source": [
    "def normalization(row):\n",
    "    \"\"\"\n",
    "    Function to normalize the f(m) column\n",
    "    :param rows:\n",
    "    :return:\n",
    "    \"\"\"\n",
    "    new_row = []\n",
    "    for val in row:\n",
    "        if(val is not None):\n",
    "            new_row.append(val)\n",
    "    new_row = np.array(new_row)\n",
    "    return normalize(new_row[:,np.newaxis], axis=0).ravel()"
   ]
  },
  {
   "cell_type": "code",
   "execution_count": 476,
   "metadata": {
    "collapsed": true
   },
   "outputs": [],
   "source": [
    "def compute_KL_divergence(target,reference):\n",
    "    if(len(target)==len(reference)):\n",
    "        return scipy.stats.entropy(target,reference)\n",
    "    else:\n",
    "        return 0"
   ]
  },
  {
   "cell_type": "code",
   "execution_count": 477,
   "metadata": {
    "collapsed": true
   },
   "outputs": [],
   "source": [
    "def execute_query(conn,query):  \n",
    "    cur = conn.cursor()\n",
    "    cur.execute(query)\n",
    "    rows = cur.fetchall()\n",
    "    cur.close()    \n",
    "    return np.array(rows).T"
   ]
  },
  {
   "cell_type": "code",
   "execution_count": 478,
   "metadata": {
    "collapsed": true
   },
   "outputs": [],
   "source": [
    "import math"
   ]
  },
  {
   "cell_type": "code",
   "execution_count": 479,
   "metadata": {
    "collapsed": true
   },
   "outputs": [],
   "source": [
    "def get_mean(view_distances):\n",
    "    mean_dict = {}\n",
    "    my_values = []\n",
    "    for key, value in view_distances.items():\n",
    "        for v in value:\n",
    "            if not math.isinf(v):\n",
    "                my_values.append(v)\n",
    "        mean_dict[key] = (np.mean(my_values),np.std(my_values))\n",
    "    return mean_dict"
   ]
  },
  {
   "cell_type": "code",
   "execution_count": 480,
   "metadata": {
    "collapsed": true
   },
   "outputs": [],
   "source": [
    "def get_confidence_interval(m, mu):\n",
    "    delta = 0.95\n",
    "    n = phase\n",
    "    term1 = 1 - (m-1)/n\n",
    "    print m\n",
    "    print math.log(m)\n",
    "    term2 = 2 * math.log(math.log(m))\n",
    "    term3 = math.log((3.14*3.14)/(3*delta))\n",
    "    numerator = term1 * (term2 + term3)\n",
    "    denominator = 2 * m\n",
    "    epsilon = math.sqrt(numerator/denominator)\n",
    "    confidence_interval = [mu-epsilon, mu+epsilon]\n",
    "    return confidence_interval\n"
   ]
  },
  {
   "cell_type": "code",
   "execution_count": 589,
   "metadata": {},
   "outputs": [],
   "source": [
    "def prune(view_distances, m, phase):\n",
    "    views_CI_dict = {}\n",
    "    ci_dict = {}\n",
    "    prunedViews = []\n",
    "    mean_dict = get_mean(view_distances)\n",
    "    #print scipy.stats.norm.interval(0.95, loc=mu, scale=sigma)\n",
    "    #TODO prune based on the confidence interval\n",
    "    for key, value in mean_dict.items():\n",
    "        ci_dict[key] = scipy.stats.norm.interval(0.95, loc=value[0], scale=value[1])\n",
    "    ci_dict_copy = ci_dict.copy()\n",
    "    viewItems = list(ci_dict_copy)\n",
    "    viewItems.sort(key = lambda x:x[1][1])\n",
    "    topFiveViews = viewItems[-5:]\n",
    "    topFiveViews.sort(key = lambda x:x[1][0])\n",
    "    lowestLowerBound =topFiveViews[:1][0][1][0]\n",
    "    key_topFiveViews =[k for k in topFiveViews]\n",
    " #   print key_topFiveViews\n",
    "    for key, value in ci_dict_copy.items():\n",
    "        if(value[0] < lowestLowerBound and key not in key_topFiveViews):\n",
    "            ci_dict_copy.pop(key)\n",
    "            view_distances.pop(key)\n",
    "    return view_distances"
   ]
  },
  {
   "cell_type": "code",
   "execution_count": 596,
   "metadata": {},
   "outputs": [],
   "source": [
    "def share_opt(conn):\n",
    "    view_distances = {}\n",
    "    # Phase 0\n",
    "    for a,measures,functions in tuples:\n",
    "         for m in measures:\n",
    "            for f in functions:\n",
    "                view_distances[(a,m,f)] = []\n",
    "                target_command =\"select {},{}({}) from a_{} where marital_status IN (' Married-AF-spouse', ' Married-civ-spouse', ' Married-spouse-absent', ' Separated') group  by {}\".format(a,f,m,0,a)\n",
    "                reference_command = \"select {},{}({}) from a_{} WHERE marital_status IN (' Never-married', ' Widowed', ' Divorced') group  by {}\".format(a,f,m,0,a)\n",
    "                target_array = execute_query(conn,target_command)\n",
    "                reference_array = execute_query(conn,reference_command)\n",
    "                view_distances[(a,m,f)].append(compute_KL_divergence(normalization(target_array[1]), normalization(reference_array[1])))\n",
    "    #print view_distances\n",
    "#    print len(view_distances)\n",
    "    view_distances = prune(view_distances, 1, phase)\n",
    "#    print len(view_distances)\n",
    "    for i in range(1, phase):\n",
    "        for key, value in view_distances.items():\n",
    "                a = key[0]\n",
    "                m = key[1]\n",
    "                f = key[2]\n",
    "                target_command =\"select {},{}({}) from a_{} where marital_status IN (' Married-AF-spouse', ' Married-civ-spouse', ' Married-spouse-absent', ' Separated') group  by {}\".format(a,f,m,i,a)\n",
    "                reference_command = \"select {},{}({}) from a_{} WHERE marital_status IN (' Never-married', ' Widowed', ' Divorced') group  by {}\".format(a,f,m,i,a)\n",
    "                reference_array = execute_query(conn,reference_command)\n",
    "                view_distances[(a,m,f)].append(compute_KL_divergence(normalization(target_array[1]), normalization(reference_array[1])))\n",
    "        if(i!=phase-1):\n",
    "            view_distances = prune(view_distances, i+1, phase)\n",
    "    for key,value in view_distances.items():\n",
    "        print key \n",
    "        print value\n",
    "        \n",
    "        \n",
    "        \n",
    "        "
   ]
  },
  {
   "cell_type": "code",
   "execution_count": 597,
   "metadata": {
    "scrolled": false
   },
   "outputs": [
    {
     "name": "stdout",
     "output_type": "stream",
     "text": [
      "('race', 'hours_per_week', 'avg')\n",
      "[0.0017769724645642238, 0, 0, 0, 0, 0, 0, 0, 0, 0]\n",
      "('data_class', 'hours_per_week', 'max')\n",
      "[0.0085249160277568806, 0.00056986407414863494, 0.0041363965145357409, 0.00052338903136455589, 0.0041363965145357409, 0.00052338903136455589, 0.00052338903136455589, 0.0041363965145357409, 0.0095909038169036676, 0.0095909038169036676]\n",
      "('race', 'hours_per_week', 'count')\n",
      "[0.019251545438810441, 0, 0, 0, 0, 0, 0, 0, 0, 0]\n",
      "('relationship', 'hours_per_week', 'avg')\n",
      "[0, 0, 0, 0, 0, 0, 0, 0, 0, 0]\n",
      "('education', 'hours_per_week', 'min')\n",
      "[0.69494322461374769, 0, 0, 0, 0, 0, 0, 0, 0, 0]\n"
     ]
    },
    {
     "name": "stderr",
     "output_type": "stream",
     "text": [
      "C:\\Users\\rsarm\\Anaconda2\\lib\\site-packages\\ipykernel_launcher.py:19: DeprecationWarning: unorderable dtypes; returning scalar but in the future this will be an error\n"
     ]
    }
   ],
   "source": [
    "share_opt(conn)\n"
   ]
  },
  {
   "cell_type": "code",
   "execution_count": null,
   "metadata": {
    "collapsed": true
   },
   "outputs": [],
   "source": [
    "conn.rollback()"
   ]
  },
  {
   "cell_type": "code",
   "execution_count": 256,
   "metadata": {},
   "outputs": [
    {
     "data": {
      "text/plain": [
       "0"
      ]
     },
     "execution_count": 256,
     "metadata": {},
     "output_type": "execute_result"
    }
   ],
   "source": [
    "len(view_distances)"
   ]
  },
  {
   "cell_type": "code",
   "execution_count": 541,
   "metadata": {
    "collapsed": true
   },
   "outputs": [],
   "source": [
    "import operator\n",
    "A = {'a':(10,11), 'b':(843,999), 'c': (39,99), 'd':(40,63), 'e':(55,79), 'f':(9,10), 'g': (22,55), 'x' : (10, 99999)}\n",
    "copyA = {'a':(10,11), 'b':(843,999), 'c': (39,99), 'd':(40,63), 'e':(55,79), 'f':(9,10), 'g': (22,55), 'x' : (10, 99999)}\n",
    "newA = dict(sorted(A.iteritems(), key=operator.itemgetter(1), reverse=True)[:5])"
   ]
  },
  {
   "cell_type": "code",
   "execution_count": 543,
   "metadata": {},
   "outputs": [
    {
     "name": "stdout",
     "output_type": "stream",
     "text": [
      "[('f', (9, 10)), ('a', (10, 11)), ('g', (22, 55)), ('d', (40, 63)), ('e', (55, 79)), ('c', (39, 99)), ('b', (843, 999)), ('x', (10, 99999))]\n",
      "[('x', (10, 99999)), ('c', (39, 99)), ('d', (40, 63)), ('e', (55, 79)), ('b', (843, 999))]\n"
     ]
    }
   ],
   "source": [
    "b = copyA.items()\n",
    "b.sort(key = lambda x:x[1][1])\n",
    "print b\n",
    "top5 = b[-5:]\n",
    "top5.sort(key = lambda x:x[1][0])\n",
    "print(top5)"
   ]
  },
  {
   "cell_type": "code",
   "execution_count": 547,
   "metadata": {},
   "outputs": [
    {
     "name": "stdout",
     "output_type": "stream",
     "text": [
      "[('x', (10, 99999)), ('c', (39, 99)), ('d', (40, 63)), ('e', (55, 79)), ('b', (843, 999))]\n",
      "[('x', (10, 99999))]\n",
      "10\n",
      "10\n",
      "22\n",
      "{'a': (10, 11), 'c': (39, 99), 'b': (843, 999), 'e': (55, 79), 'd': (40, 63), 'g': (22, 55), 'x': (10, 99999)}\n",
      "{'a': (10, 11), 'g': (22, 55)}\n"
     ]
    }
   ],
   "source": [
    "prunedViews = []\n",
    "print(top5)\n",
    "print(top5[:1])\n",
    "lowestLowerBound = top5[:1][0][1][0]\n",
    "print lowestLowerBound\n",
    "key_top5 ={k[0] for k in top5}\n",
    "for key in key_top5:\n",
    "    copyA.pop(key, None)\n",
    "for key, value in copyA.items():\n",
    "    print value[0]\n",
    "    if(value[0] < lowestLowerBound):\n",
    "        copyA.pop(key)\n",
    "print(A)\n",
    "print(copyA)"
   ]
  },
  {
   "cell_type": "code",
   "execution_count": null,
   "metadata": {
    "collapsed": true
   },
   "outputs": [],
   "source": []
  }
 ],
 "metadata": {
  "kernelspec": {
   "display_name": "Python 2",
   "language": "python",
   "name": "python2"
  },
  "language_info": {
   "codemirror_mode": {
    "name": "ipython",
    "version": 2
   },
   "file_extension": ".py",
   "mimetype": "text/x-python",
   "name": "python",
   "nbconvert_exporter": "python",
   "pygments_lexer": "ipython2",
   "version": "2.7.14"
  }
 },
 "nbformat": 4,
 "nbformat_minor": 2
}
