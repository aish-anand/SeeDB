{
 "cells": [
  {
   "cell_type": "markdown",
   "metadata": {},
   "source": [
    "# Connect to POSTGRE and create tables"
   ]
  },
  {
   "cell_type": "code",
   "execution_count": 409,
   "metadata": {
    "collapsed": true
   },
   "outputs": [],
   "source": [
    "import psycopg2\n",
    "from psycopg2.extensions import ISOLATION_LEVEL_AUTOCOMMIT # <-- ADD THIS LINE"
   ]
  },
  {
   "cell_type": "code",
   "execution_count": 410,
   "metadata": {
    "collapsed": true
   },
   "outputs": [],
   "source": [
    "from configparser import ConfigParser\n",
    "def config(filename='database.ini', section='postgresql'):\n",
    "    # create a parser\n",
    "    parser = ConfigParser()\n",
    "    # read config file\n",
    "    parser.read(filename)\n",
    " \n",
    "    # get section, default to postgresql\n",
    "    db = {}\n",
    "    if parser.has_section(section):\n",
    "        params = parser.items(section)\n",
    "        for param in params:\n",
    "            db[param[0]] = param[1]\n",
    "    else:\n",
    "        raise Exception('Section {0} not found in the {1} file'.format(section, filename))\n",
    " \n",
    "    return db"
   ]
  },
  {
   "cell_type": "code",
   "execution_count": 411,
   "metadata": {
    "collapsed": true
   },
   "outputs": [],
   "source": [
    "def connect():\n",
    "    \"\"\" Connect to the PostgreSQL database server returns connection \"\"\"\n",
    "    conn = None\n",
    "    try:\n",
    "        # read connection parameters\n",
    "        params = config()\n",
    " \n",
    "        # connect to the PostgreSQL server\n",
    "        print('Connecting to the PostgreSQL database...')\n",
    "        conn = psycopg2.connect(**params)\n",
    " \n",
    "        # create a cursor\n",
    "        cur = conn.cursor()\n",
    "        \n",
    " # execute a statement\n",
    "        print('PostgreSQL database version:')\n",
    "        cur.execute('SELECT version()')\n",
    " \n",
    "        # display the PostgreSQL database server version\n",
    "        db_version = cur.fetchone()\n",
    "        print(db_version)\n",
    "       \n",
    "     # close the communication with the PostgreSQL\n",
    "        cur.close()\n",
    "    except (Exception, psycopg2.DatabaseError) as error:\n",
    "        print(error)\n",
    "    finally:\n",
    "        return conn;"
   ]
  },
  {
   "cell_type": "code",
   "execution_count": 412,
   "metadata": {
    "collapsed": true
   },
   "outputs": [],
   "source": [
    "def create_tables(conn):\n",
    "    \"\"\" create tables in the PostgreSQL database and load data from csv\"\"\"\n",
    "    commands = (\n",
    "        \"\"\"\n",
    "        CREATE TABLE adult (\n",
    "            age INTEGER,\n",
    "            workclass VARCHAR,\n",
    "            fnlwgt integer,\n",
    "            education varchar,\n",
    "            education_num integer,\n",
    "            marital_status varchar,\n",
    "            occupation varchar,\n",
    "            relationship varchar,\n",
    "            race varchar,\n",
    "            sex varchar,\n",
    "            capital_gain integer,\n",
    "            capital_loss integer,\n",
    "            hours_per_week integer,\n",
    "            native_country varchar,\n",
    "            data_class varchar\n",
    "        )\n",
    "        \"\"\",\n",
    "        \"\"\"\n",
    "        copy public.adult (\n",
    "            age,\n",
    "            workclass,\n",
    "            fnlwgt,\n",
    "            education,\n",
    "            education_num,\n",
    "            marital_status,\n",
    "            occupation,\n",
    "            relationship,\n",
    "            race,\n",
    "            sex,\n",
    "            capital_gain,\n",
    "            capital_loss,\n",
    "            hours_per_week,\n",
    "            native_country,\n",
    "            data_class\n",
    "        ) \n",
    "        FROM 'D:/UMass/Spring 18/645/SeeDB/adult_data.csv' \n",
    "        DELIMITER ',' CSV ENCODING 'UTF8';\n",
    "        \"\"\")\n",
    "    conn = None\n",
    "    try:\n",
    "        # read the connection parameters\n",
    "        params = config()\n",
    "        # connect to the PostgreSQL server\n",
    "#         conn = psycopg2.connect(**params)\n",
    "        cur = conn.cursor()\n",
    "        # create table one by one\n",
    "        for command in commands:\n",
    "            cur.execute(command)\n",
    "        # close communication with the PostgreSQL database server\n",
    "        cur.close()\n",
    "        # commit the changes\n",
    "        conn.commit()\n",
    "    except (Exception, psycopg2.DatabaseError) as error:\n",
    "        print(error)"
   ]
  },
  {
   "cell_type": "code",
   "execution_count": 413,
   "metadata": {
    "collapsed": true
   },
   "outputs": [],
   "source": [
    "def create_views(conn):\n",
    "    \"\"\" create views of married and unmarried, split into 10 subsets for phases\"\"\"\n",
    "    commands = (\n",
    "        \"\"\"\n",
    "        CREATE VIEW Married \n",
    "        AS SELECT * \n",
    "        FROM adult\n",
    "        WHERE marital_status IN (' Married-AF-spouse', ' Married-civ-spouse', ' Married-spouse-absent', ' Separated')\n",
    "        \"\"\",\n",
    "        \"\"\"\n",
    "        CREATE VIEW Unmarried \n",
    "        AS SELECT * \n",
    "        FROM adult\n",
    "        WHERE marital_status IN (' Never-married', ' Widowed', ' Divorced')\n",
    "        \"\"\"\n",
    "    )\n",
    "    conn = None\n",
    "    try:\n",
    "        # read the connection parameters\n",
    "        params = config()\n",
    "        # connect to the PostgreSQL server\n",
    "#         conn = psycopg2.connect(**params)\n",
    "        cur = conn.cursor()\n",
    "        # create table one by one\n",
    "        for command in commands:\n",
    "            cur.execute(command)\n",
    "        # close communication with the PostgreSQL database server\n",
    "        cur.close()\n",
    "        # commit the changes\n",
    "        conn.commit()\n",
    "    except (Exception, psycopg2.DatabaseError) as error:\n",
    "        print(error)"
   ]
  },
  {
   "cell_type": "code",
   "execution_count": 414,
   "metadata": {
    "collapsed": true
   },
   "outputs": [],
   "source": [
    "def close_connection(conn):\n",
    "    \"\"\" Close postgres connection\"\"\"\n",
    "    try:\n",
    "        if conn is not None:\n",
    "            conn.close()\n",
    "    except (Exception, psycopg2.DatabaseError) as error:\n",
    "        print(error)"
   ]
  },
  {
   "cell_type": "code",
   "execution_count": 415,
   "metadata": {
    "collapsed": true
   },
   "outputs": [],
   "source": [
    "a = [\"workclass\", \"education\", \"occupation\", \"relationship\", \"race\", \"sex\", \"native_country\",\"data_class\"]\n",
    "m = [\"age\", \"fnlwgt\", \"hours_per_week\", \"capital_gain\", \"capital_loss\"]\n",
    "f = [\"avg\", \"sum\", \"min\", \"max\", \"count\"]"
   ]
  },
  {
   "cell_type": "code",
   "execution_count": 416,
   "metadata": {
    "collapsed": true
   },
   "outputs": [],
   "source": [
    "tuples = [(x, m, f) for x in a]"
   ]
  },
  {
   "cell_type": "code",
   "execution_count": 417,
   "metadata": {
    "scrolled": true
   },
   "outputs": [
    {
     "name": "stderr",
     "output_type": "stream",
     "text": [
      "C:\\Users\\rsarm\\Anaconda2\\lib\\site-packages\\ipykernel_launcher.py:6: DeprecationWarning: You passed a bytestring as `filenames`. This will not work on Python 3. Use `cp.read_file()` or switch to using Unicode strings across the board.\n",
      "  \n"
     ]
    },
    {
     "name": "stdout",
     "output_type": "stream",
     "text": [
      "Connecting to the PostgreSQL database...\n",
      "PostgreSQL database version:\n",
      "('PostgreSQL 10.1, compiled by Visual C++ build 1800, 64-bit',)\n",
      "('Number of rows in table ', 29933L)\n",
      "('Number of phases ', 10)\n",
      "('Size of each phase ', 2994L)\n"
     ]
    }
   ],
   "source": [
    "conn = connect()\n",
    "cur = conn.cursor()\n",
    "\n",
    "#find total rows in db then split into 10 phase - size of each phase\n",
    "cur.execute(\"SELECT COUNT(age) FROM adult;\")\n",
    "num_of_rows = cur.fetchall()[0][0];\n",
    "print(\"Number of rows in table \", num_of_rows)\n",
    "phase = 10\n",
    "size = num_of_rows/phase+1;\n",
    "print(\"Number of phases \", phase)\n",
    "print(\"Size of each phase \", size)\n",
    "\n",
    "#query from adult\n",
    "cur.execute(\"SELECT * FROM adult;\")\n",
    "cur2 = conn.cursor()\n",
    "# for i in ['a_'+`i` for i in range(10)]:\n",
    "for i in range(10):\n",
    "    create_tbl = \"CREATE TEMP TABLE a_\" + str(i) + \" (age INTEGER,workclass VARCHAR,fnlwgt integer,education varchar, education_num integer, marital_status varchar, occupation varchar, relationship varchar, race varchar, sex varchar, capital_gain integer, capital_loss integer, hours_per_week integer,native_country varchar,data_class varchar);\"\n",
    "    cur2.execute(create_tbl)\n",
    "    commands = \"INSERT INTO a_\"+ str(i) +\" VALUES(%s, %s, %s,%s, %s, %s, %s, %s, %s, %s, %s, %s, %s, %s, %s);\"\n",
    "    results = cur.fetchmany(size) #fetching every size-rows from adult\n",
    "    for result in results:\n",
    "        #add to view i \n",
    "#         print(result)\n",
    "        cur2.execute(commands,result)"
   ]
  },
  {
   "cell_type": "code",
   "execution_count": 418,
   "metadata": {
    "collapsed": true
   },
   "outputs": [],
   "source": [
    "#closing connection or cur2 will result in dropping temp tables!"
   ]
  },
  {
   "cell_type": "markdown",
   "metadata": {},
   "source": [
    "### Pruning Optimization"
   ]
  },
  {
   "cell_type": "code",
   "execution_count": 429,
   "metadata": {
    "collapsed": true
   },
   "outputs": [],
   "source": [
    "from sklearn.preprocessing import normalize\n",
    "import scipy\n",
    "import numpy as np\n",
    "view_distances = {}\n",
    "num_of_phases = 1"
   ]
  },
  {
   "cell_type": "code",
   "execution_count": 430,
   "metadata": {
    "collapsed": true
   },
   "outputs": [],
   "source": [
    "def normalization(row):\n",
    "    \"\"\"\n",
    "    Function to normalize the f(m) column\n",
    "    :param rows:\n",
    "    :return:\n",
    "    \"\"\"\n",
    "    new_row = []\n",
    "    for val in row:\n",
    "        if(val is not None):\n",
    "            new_row.append(val)\n",
    "    new_row = np.array(new_row)\n",
    "    return normalize(new_row[:,np.newaxis], axis=0).ravel()"
   ]
  },
  {
   "cell_type": "code",
   "execution_count": 431,
   "metadata": {
    "collapsed": true
   },
   "outputs": [],
   "source": [
    "def compute_KL_divergence(target,reference):\n",
    "    if(len(target)==len(reference)):\n",
    "        return scipy.stats.entropy(target,reference)\n",
    "    else:\n",
    "        return 0"
   ]
  },
  {
   "cell_type": "code",
   "execution_count": 432,
   "metadata": {
    "collapsed": true
   },
   "outputs": [],
   "source": [
    "def execute_query(conn,query):  \n",
    "    cur = conn.cursor()\n",
    "    cur.execute(query)\n",
    "    rows = cur.fetchall()\n",
    "    cur.close()    \n",
    "    return np.array(rows).T"
   ]
  },
  {
   "cell_type": "code",
   "execution_count": 433,
   "metadata": {
    "collapsed": true
   },
   "outputs": [],
   "source": [
    "import math"
   ]
  },
  {
   "cell_type": "code",
   "execution_count": 434,
   "metadata": {},
   "outputs": [],
   "source": [
    "def get_mean(view_distances):\n",
    "    my_values = []\n",
    "    for key, value in view_distances.items():\n",
    "        if not math.isinf(value) and value > 0:\n",
    "            my_values.append(value)\n",
    "    return np.mean(my_values), np.std(my_values)"
   ]
  },
  {
   "cell_type": "code",
   "execution_count": 435,
   "metadata": {
    "collapsed": true
   },
   "outputs": [],
   "source": [
    "def get_confidence_interval(m, mu):\n",
    "    delta = 0.95\n",
    "    n = phase\n",
    "    term1 = 1 - (m-1)/n\n",
    "    print m\n",
    "    print math.log(m)\n",
    "    term2 = 2 * math.log(math.log(m))\n",
    "    term3 = math.log((3.14*3.14)/(3*delta))\n",
    "    numerator = term1 * (term2 + term3)\n",
    "    denominator = 2 * m\n",
    "    epsilon = math.sqrt(numerator/denominator)\n",
    "    confidence_interval = [mu-epsilon, mu+epsilon]\n",
    "    return confidence_interval\n"
   ]
  },
  {
   "cell_type": "code",
   "execution_count": 439,
   "metadata": {
    "collapsed": true
   },
   "outputs": [],
   "source": [
    "def prune(view_distances, m, phase):\n",
    "    mu , sigma = get_mean(view_distances)\n",
    "    print scipy.stats.norm.interval(0.95, loc=mu, scale=sigma)\n",
    "    #TODO prune based on the confidence interval\n",
    "        \n",
    "        "
   ]
  },
  {
   "cell_type": "code",
   "execution_count": 450,
   "metadata": {},
   "outputs": [],
   "source": [
    "def share_opt(conn):\n",
    "    view_distances = {}\n",
    "    # Phase 0\n",
    "    for a,measures,functions in tuples:\n",
    "         for m in measures:\n",
    "            for f in functions:\n",
    "                #view_distances[(a,m,f)] = []\n",
    "                target_command =\"select {},{}({}) from a_{} where marital_status IN (' Married-AF-spouse', ' Married-civ-spouse', ' Married-spouse-absent', ' Separated') group  by {}\".format(a,f,m,0,a)\n",
    "                reference_command = \"select {},{}({}) from a_{} WHERE marital_status IN (' Never-married', ' Widowed', ' Divorced') group  by {}\".format(a,f,m,0,a)\n",
    "                target_array = execute_query(conn,target_command)\n",
    "                reference_array = execute_query(conn,reference_command)\n",
    "                view_distances[(a,m,f)]=compute_KL_divergence(normalization(target_array[1]), normalization(reference_array[1]))\n",
    "    print view_distances\n",
    "    #view_distances = prune(view_distances, 1, phase)\n",
    "    for i in range(1, phase):\n",
    "        for key, value in view_distances.items():\n",
    "                a = key[0]\n",
    "                m = key[1]\n",
    "                f = key[2]\n",
    "                target_command =\"select {},{}({}) from a_{} where marital_status IN (' Married-AF-spouse', ' Married-civ-spouse', ' Married-spouse-absent', ' Separated') group  by {}\".format(a,f,m,i,a)\n",
    "                reference_command = \"select {},{}({}) from a_{} WHERE marital_status IN (' Never-married', ' Widowed', ' Divorced') group  by {}\".format(a,f,m,i,a)\n",
    "                reference_array = execute_query(conn,reference_command)\n",
    "                view_distances[(a,m,f)]=compute_KL_divergence(normalization(target_array[1]), normalization(reference_array[1]))\n",
    "        #if(i!=phase-1):\n",
    "            #view_distances = prune(view_distances, i+1, phase)            \n",
    "        \n",
    "        "
   ]
  },
  {
   "cell_type": "code",
   "execution_count": 451,
   "metadata": {
    "scrolled": false
   },
   "outputs": [
    {
     "name": "stdout",
     "output_type": "stream",
     "text": [
      "{('sex', 'hours_per_week', 'max'): 0.0031530155099300725, ('occupation', 'age', 'avg'): 0, ('workclass', 'fnlwgt', 'avg'): 0, ('sex', 'capital_gain', 'avg'): 0.36594981402586674, ('education', 'capital_loss', 'sum'): inf, ('native_country', 'age', 'max'): 0, ('native_country', 'age', 'count'): 0, ('workclass', 'fnlwgt', 'count'): 0, ('occupation', 'age', 'count'): 0, ('relationship', 'capital_gain', 'count'): 0, ('occupation', 'hours_per_week', 'min'): 0, ('native_country', 'hours_per_week', 'sum'): 0, ('relationship', 'capital_loss', 'avg'): 0, ('workclass', 'hours_per_week', 'min'): 0, ('workclass', 'capital_gain', 'count'): 0, ('workclass', 'fnlwgt', 'min'): 0, ('relationship', 'hours_per_week', 'count'): 0, ('native_country', 'capital_gain', 'min'): 0, ('race', 'fnlwgt', 'count'): 0.019251545438810441, ('occupation', 'capital_gain', 'count'): 0, ('data_class', 'hours_per_week', 'count'): 0.56747038038135922, ('race', 'capital_gain', 'sum'): inf, ('sex', 'capital_loss', 'count'): 0.24145567197736825, ('relationship', 'capital_gain', 'min'): 0, ('workclass', 'capital_gain', 'sum'): 0, ('sex', 'fnlwgt', 'min'): 0.0072543117747579586, ('occupation', 'age', 'max'): 0, ('native_country', 'fnlwgt', 'max'): 0, ('race', 'hours_per_week', 'min'): 0.15448992844162651, ('sex', 'capital_gain', 'max'): 0.41867927948002648, ('workclass', 'age', 'count'): 0, ('sex', 'hours_per_week', 'avg'): 0.00091794202392727828, ('race', 'capital_gain', 'min'): inf, ('race', 'capital_loss', 'sum'): 0.033383339130493787, ('data_class', 'capital_gain', 'avg'): 0.0045664116335464126, ('race', 'hours_per_week', 'sum'): 0.021425804712154439, ('relationship', 'capital_loss', 'max'): 0, ('workclass', 'capital_loss', 'max'): 0, ('data_class', 'age', 'avg'): 0.0036724547112923778, ('native_country', 'fnlwgt', 'avg'): 0, ('occupation', 'hours_per_week', 'sum'): 0, ('data_class', 'fnlwgt', 'avg'): 0.00077747051064785272, ('sex', 'hours_per_week', 'min'): 0.36299034890931503, ('workclass', 'age', 'max'): 0, ('occupation', 'capital_loss', 'max'): 0, ('race', 'hours_per_week', 'avg'): 0.0017769724645642238, ('workclass', 'hours_per_week', 'sum'): 0, ('native_country', 'capital_loss', 'avg'): 0, ('occupation', 'capital_gain', 'min'): 0, ('sex', 'hours_per_week', 'sum'): 0.24968114414865694, ('relationship', 'capital_gain', 'sum'): 0, ('workclass', 'capital_gain', 'min'): 0, ('native_country', 'capital_gain', 'count'): 0, ('occupation', 'fnlwgt', 'max'): 0, ('education', 'age', 'avg'): 0.017488298202506192, ('data_class', 'capital_loss', 'max'): 0.00060060821783339269, ('race', 'fnlwgt', 'max'): 0.027145209553723029, ('sex', 'fnlwgt', 'avg'): 0.00066277693162199516, ('education', 'capital_gain', 'avg'): inf, ('native_country', 'capital_gain', 'avg'): 0, ('sex', 'capital_loss', 'max'): 0.00090695047592247169, ('education', 'hours_per_week', 'count'): 0.04994315537062434, ('education', 'fnlwgt', 'avg'): 0.0046184590072512917, ('race', 'capital_loss', 'min'): inf, ('native_country', 'fnlwgt', 'sum'): 0, ('relationship', 'hours_per_week', 'max'): 0, ('data_class', 'capital_loss', 'avg'): 0.0038397505536150942, ('relationship', 'fnlwgt', 'max'): 0, ('sex', 'fnlwgt', 'max'): 0.063184966801073467, ('education', 'capital_loss', 'avg'): inf, ('native_country', 'fnlwgt', 'min'): 0, ('native_country', 'age', 'sum'): 0, ('occupation', 'fnlwgt', 'avg'): 0, ('sex', 'hours_per_week', 'count'): 0.24145567197736825, ('relationship', 'age', 'count'): 0, ('occupation', 'capital_gain', 'sum'): 0, ('race', 'capital_loss', 'count'): 0.019251545438810441, ('race', 'age', 'avg'): 0.0059877623092080764, ('sex', 'age', 'sum'): 0.30724462024147547, ('relationship', 'fnlwgt', 'count'): 0, ('native_country', 'capital_gain', 'max'): 0, ('race', 'capital_gain', 'avg'): inf, ('workclass', 'fnlwgt', 'sum'): 0, ('relationship', 'fnlwgt', 'avg'): 0, ('workclass', 'hours_per_week', 'count'): 0, ('data_class', 'hours_per_week', 'min'): 0.29389333245105953, ('occupation', 'hours_per_week', 'count'): 0, ('workclass', 'capital_loss', 'count'): 0, ('education', 'capital_loss', 'max'): inf, ('sex', 'age', 'min'): 0.00032876712881642865, ('data_class', 'capital_gain', 'sum'): 0.20947460912013197, ('occupation', 'capital_loss', 'count'): 0, ('race', 'age', 'count'): 0.019251545438810441, ('race', 'capital_loss', 'avg'): 0.068114782852302616, ('race', 'age', 'sum'): 0.023625928700209249, ('data_class', 'fnlwgt', 'sum'): 0.53086674146540103, ('native_country', 'age', 'min'): 0, ('occupation', 'capital_loss', 'avg'): 0, ('education', 'hours_per_week', 'max'): 0.014641799643042757, ('native_country', 'hours_per_week', 'avg'): 0, ('occupation', 'fnlwgt', 'count'): 0, ('workclass', 'capital_loss', 'avg'): 0, ('occupation', 'hours_per_week', 'avg'): 0, ('education', 'capital_loss', 'count'): 0.04994315537062434, ('data_class', 'age', 'max'): 2.1765260914316173e-05, ('workclass', 'hours_per_week', 'avg'): 0, ('education', 'age', 'min'): 0.021718553550076278, ('native_country', 'hours_per_week', 'max'): 0, ('relationship', 'age', 'max'): 0, ('sex', 'capital_loss', 'sum'): 0.098983524720269334, ('occupation', 'fnlwgt', 'sum'): 0, ('relationship', 'hours_per_week', 'min'): 0, ('native_country', 'capital_loss', 'sum'): 0, ('race', 'capital_gain', 'count'): 0.019251545438810441, ('education', 'hours_per_week', 'avg'): 0.007327320895189721, ('education', 'age', 'sum'): 0.040422968512652327, ('race', 'fnlwgt', 'sum'): 0.013794095832865977, ('sex', 'age', 'avg'): 0.0061843539223446972, ('data_class', 'hours_per_week', 'sum'): 0.55092070170914631, ('race', 'capital_loss', 'max'): 0.019906225715714949, ('native_country', 'capital_loss', 'min'): 0, ('sex', 'fnlwgt', 'count'): 0.24145567197736825, ('race', 'age', 'max'): 0.0072815094608909663, ('education', 'fnlwgt', 'max'): 0.053671453359478399, ('relationship', 'age', 'avg'): 0, ('education', 'age', 'count'): 0.04994315537062434, ('sex', 'capital_loss', 'min'): inf, ('sex', 'capital_gain', 'sum'): 0.9885955351608412, ('sex', 'age', 'count'): 0.24145567197736825, ('education', 'capital_gain', 'max'): inf, ('data_class', 'capital_gain', 'min'): inf, ('data_class', 'capital_loss', 'sum'): 0.82323753617729578, ('race', 'fnlwgt', 'min'): 0.34245071290265988, ('workclass', 'age', 'sum'): 0, ('data_class', 'capital_loss', 'count'): 0.56747038038135922, ('data_class', 'fnlwgt', 'min'): 0.0092299009738519427, ('native_country', 'age', 'avg'): 0, ('education', 'fnlwgt', 'count'): 0.04994315537062434, ('native_country', 'hours_per_week', 'min'): 0, ('relationship', 'capital_loss', 'sum'): 0, ('workclass', 'age', 'min'): 0, ('data_class', 'fnlwgt', 'count'): 0.56747038038135922, ('education', 'capital_gain', 'count'): 0.04994315537062434, ('occupation', 'capital_loss', 'sum'): 0, ('data_class', 'capital_loss', 'min'): inf, ('workclass', 'capital_gain', 'max'): 0, ('data_class', 'capital_gain', 'count'): 0.56747038038135922, ('relationship', 'capital_loss', 'min'): 0, ('occupation', 'fnlwgt', 'min'): 0, ('relationship', 'hours_per_week', 'sum'): 0, ('occupation', 'age', 'sum'): 0, ('sex', 'age', 'max'): 0.0, ('workclass', 'capital_loss', 'sum'): 0, ('native_country', 'hours_per_week', 'count'): 0, ('occupation', 'capital_gain', 'max'): 0, ('education', 'capital_gain', 'min'): inf, ('native_country', 'capital_loss', 'count'): 0, ('occupation', 'capital_loss', 'min'): 0, ('education', 'hours_per_week', 'sum'): 0.035095665145610529, ('race', 'capital_gain', 'max'): inf, ('education', 'fnlwgt', 'min'): 0.11866009565214615, ('workclass', 'capital_loss', 'min'): 0, ('data_class', 'fnlwgt', 'max'): 0.0004594378768679238, ('relationship', 'fnlwgt', 'sum'): 0, ('sex', 'capital_gain', 'min'): inf, ('data_class', 'age', 'sum'): 0.51445709524264305, ('occupation', 'age', 'min'): 0, ('native_country', 'fnlwgt', 'count'): 0, ('data_class', 'age', 'count'): 0.56747038038135922, ('data_class', 'capital_gain', 'max'): 0.12540758671029417, ('occupation', 'capital_gain', 'avg'): 0, ('data_class', 'hours_per_week', 'avg'): 0.0014215130167357613, ('native_country', 'capital_loss', 'max'): 0, ('workclass', 'capital_gain', 'avg'): 0, ('relationship', 'age', 'sum'): 0, ('workclass', 'hours_per_week', 'max'): 0, ('relationship', 'capital_gain', 'avg'): 0, ('workclass', 'age', 'avg'): 0, ('race', 'hours_per_week', 'max'): 0.013598235056733545, ('data_class', 'age', 'min'): 0.00055101847064573106, ('native_country', 'capital_gain', 'sum'): 0, ('sex', 'capital_gain', 'count'): 0.24145567197736825, ('relationship', 'age', 'min'): 0, ('occupation', 'hours_per_week', 'max'): 0, ('race', 'age', 'min'): 0.0051605223779554732, ('sex', 'fnlwgt', 'sum'): 0.21913676207619012, ('relationship', 'fnlwgt', 'min'): 0, ('data_class', 'hours_per_week', 'max'): 0.0085249160277568806, ('workclass', 'fnlwgt', 'max'): 0, ('sex', 'capital_loss', 'avg'): 0.034604244997719663, ('education', 'capital_gain', 'sum'): inf, ('education', 'age', 'max'): 0.0086431822260899203, ('race', 'hours_per_week', 'count'): 0.019251545438810441, ('relationship', 'capital_gain', 'max'): 0, ('race', 'fnlwgt', 'avg'): 0.011443988053062487, ('education', 'fnlwgt', 'sum'): 0.055165470510489624, ('education', 'capital_loss', 'min'): inf, ('relationship', 'hours_per_week', 'avg'): 0, ('relationship', 'capital_loss', 'count'): 0, ('education', 'hours_per_week', 'min'): 0.69494322461374769}\n"
     ]
    }
   ],
   "source": [
    "share_opt(conn)\n"
   ]
  },
  {
   "cell_type": "code",
   "execution_count": 404,
   "metadata": {
    "collapsed": true
   },
   "outputs": [],
   "source": [
    "conn.rollback()"
   ]
  },
  {
   "cell_type": "code",
   "execution_count": null,
   "metadata": {
    "collapsed": true
   },
   "outputs": [],
   "source": []
  }
 ],
 "metadata": {
  "kernelspec": {
   "display_name": "Python 2",
   "language": "python",
   "name": "python2"
  },
  "language_info": {
   "codemirror_mode": {
    "name": "ipython",
    "version": 2
   },
   "file_extension": ".py",
   "mimetype": "text/x-python",
   "name": "python",
   "nbconvert_exporter": "python",
   "pygments_lexer": "ipython2",
   "version": "2.7.14"
  }
 },
 "nbformat": 4,
 "nbformat_minor": 2
}
