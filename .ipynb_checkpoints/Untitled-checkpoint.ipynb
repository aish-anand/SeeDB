{
 "cells": [
  {
   "cell_type": "markdown",
   "metadata": {},
   "source": [
    "# Connect to POSTGRE and create tables"
   ]
  },
  {
   "cell_type": "code",
   "execution_count": 265,
   "metadata": {
    "collapsed": true
   },
   "outputs": [],
   "source": [
    "import psycopg2\n",
    "from psycopg2.extensions import ISOLATION_LEVEL_AUTOCOMMIT # <-- ADD THIS LINE"
   ]
  },
  {
   "cell_type": "code",
   "execution_count": 266,
   "metadata": {
    "collapsed": true
   },
   "outputs": [],
   "source": [
    "from configparser import ConfigParser\n",
    "def config(filename='database.ini', section='postgresql'):\n",
    "    # create a parser\n",
    "    parser = ConfigParser()\n",
    "    # read config file\n",
    "    parser.read(filename)\n",
    " \n",
    "    # get section, default to postgresql\n",
    "    db = {}\n",
    "    if parser.has_section(section):\n",
    "        params = parser.items(section)\n",
    "        for param in params:\n",
    "            db[param[0]] = param[1]\n",
    "    else:\n",
    "        raise Exception('Section {0} not found in the {1} file'.format(section, filename))\n",
    " \n",
    "    return db"
   ]
  },
  {
   "cell_type": "code",
   "execution_count": 267,
   "metadata": {
    "collapsed": true
   },
   "outputs": [],
   "source": [
    "def connect():\n",
    "    \"\"\" Connect to the PostgreSQL database server returns connection \"\"\"\n",
    "    conn = None\n",
    "    try:\n",
    "        # read connection parameters\n",
    "        params = config()\n",
    " \n",
    "        # connect to the PostgreSQL server\n",
    "        print('Connecting to the PostgreSQL database...')\n",
    "        conn = psycopg2.connect(**params)\n",
    " \n",
    "        # create a cursor\n",
    "        cur = conn.cursor()\n",
    "        \n",
    " # execute a statement\n",
    "        print('PostgreSQL database version:')\n",
    "        cur.execute('SELECT version()')\n",
    " \n",
    "        # display the PostgreSQL database server version\n",
    "        db_version = cur.fetchone()\n",
    "        print(db_version)\n",
    "       \n",
    "     # close the communication with the PostgreSQL\n",
    "        cur.close()\n",
    "    except (Exception, psycopg2.DatabaseError) as error:\n",
    "        print(error)\n",
    "    finally:\n",
    "        return conn;"
   ]
  },
  {
   "cell_type": "code",
   "execution_count": 268,
   "metadata": {
    "collapsed": true
   },
   "outputs": [],
   "source": [
    "def create_tables(conn):\n",
    "    \"\"\" create tables in the PostgreSQL database and load data from csv\"\"\"\n",
    "    commands = (\n",
    "        \"\"\"\n",
    "        CREATE TABLE adult (\n",
    "            age INTEGER,\n",
    "            workclass VARCHAR,\n",
    "            fnlwgt integer,\n",
    "            education varchar,\n",
    "            education_num integer,\n",
    "            marital_status varchar,\n",
    "            occupation varchar,\n",
    "            relationship varchar,\n",
    "            race varchar,\n",
    "            sex varchar,\n",
    "            capital_gain integer,\n",
    "            capital_loss integer,\n",
    "            hours_per_week integer,\n",
    "            native_country varchar,\n",
    "            data_class varchar\n",
    "        )\n",
    "        \"\"\",\n",
    "        \"\"\"\n",
    "        copy public.adult (\n",
    "            age,\n",
    "            workclass,\n",
    "            fnlwgt,\n",
    "            education,\n",
    "            education_num,\n",
    "            marital_status,\n",
    "            occupation,\n",
    "            relationship,\n",
    "            race,\n",
    "            sex,\n",
    "            capital_gain,\n",
    "            capital_loss,\n",
    "            hours_per_week,\n",
    "            native_country,\n",
    "            data_class\n",
    "        ) \n",
    "        FROM 'D:/UMass/Spring 18/645/SeeDB/adult_data.csv' \n",
    "        DELIMITER ',' CSV ENCODING 'UTF8';\n",
    "        \"\"\")\n",
    "    conn = None\n",
    "    try:\n",
    "        # read the connection parameters\n",
    "        params = config()\n",
    "        # connect to the PostgreSQL server\n",
    "#         conn = psycopg2.connect(**params)\n",
    "        cur = conn.cursor()\n",
    "        # create table one by one\n",
    "        for command in commands:\n",
    "            cur.execute(command)\n",
    "        # close communication with the PostgreSQL database server\n",
    "        cur.close()\n",
    "        # commit the changes\n",
    "        conn.commit()\n",
    "    except (Exception, psycopg2.DatabaseError) as error:\n",
    "        print(error)"
   ]
  },
  {
   "cell_type": "code",
   "execution_count": 269,
   "metadata": {
    "collapsed": true
   },
   "outputs": [],
   "source": [
    "def create_views(conn):\n",
    "    \"\"\" create views of married and unmarried, split into 10 subsets for phases\"\"\"\n",
    "    commands = (\n",
    "        \"\"\"\n",
    "        CREATE VIEW Married \n",
    "        AS SELECT * \n",
    "        FROM adult\n",
    "        WHERE marital_status IN (' Married-AF-spouse', ' Married-civ-spouse', ' Married-spouse-absent', ' Separated')\n",
    "        \"\"\",\n",
    "        \"\"\"\n",
    "        CREATE VIEW Unmarried \n",
    "        AS SELECT * \n",
    "        FROM adult\n",
    "        WHERE marital_status IN (' Never-married', ' Widowed', ' Divorced')\n",
    "        \"\"\"\n",
    "    )\n",
    "    conn = None\n",
    "    try:\n",
    "        # read the connection parameters\n",
    "        params = config()\n",
    "        # connect to the PostgreSQL server\n",
    "#         conn = psycopg2.connect(**params)\n",
    "        cur = conn.cursor()\n",
    "        # create table one by one\n",
    "        for command in commands:\n",
    "            cur.execute(command)\n",
    "        # close communication with the PostgreSQL database server\n",
    "        cur.close()\n",
    "        # commit the changes\n",
    "        conn.commit()\n",
    "    except (Exception, psycopg2.DatabaseError) as error:\n",
    "        print(error)"
   ]
  },
  {
   "cell_type": "code",
   "execution_count": 270,
   "metadata": {
    "collapsed": true
   },
   "outputs": [],
   "source": [
    "def close_connection(conn):\n",
    "    \"\"\" Close postgres connection\"\"\"\n",
    "    try:\n",
    "        if conn is not None:\n",
    "            conn.close()\n",
    "    except (Exception, psycopg2.DatabaseError) as error:\n",
    "        print(error)"
   ]
  },
  {
   "cell_type": "code",
   "execution_count": 271,
   "metadata": {
    "collapsed": true
   },
   "outputs": [],
   "source": [
    "a = [\"workclass\", \"education\", \"occupation\", \"relationship\", \"race\", \"sex\", \"native_country\",\"data_class\"]\n",
    "m = [\"age\", \"fnlwgt\", \"hours_per_week\", \"capital_gain\", \"capital_loss\"]\n",
    "f = [\"avg\", \"sum\", \"min\", \"max\", \"count\"]"
   ]
  },
  {
   "cell_type": "code",
   "execution_count": 272,
   "metadata": {
    "collapsed": true
   },
   "outputs": [],
   "source": [
    "tuples = [(x, m, f) for x in a]"
   ]
  },
  {
   "cell_type": "code",
   "execution_count": 273,
   "metadata": {
    "scrolled": true
   },
   "outputs": [
    {
     "name": "stderr",
     "output_type": "stream",
     "text": [
      "C:\\Users\\rsarm\\Anaconda2\\lib\\site-packages\\ipykernel_launcher.py:6: DeprecationWarning: You passed a bytestring as `filenames`. This will not work on Python 3. Use `cp.read_file()` or switch to using Unicode strings across the board.\n",
      "  \n"
     ]
    },
    {
     "name": "stdout",
     "output_type": "stream",
     "text": [
      "Connecting to the PostgreSQL database...\n",
      "PostgreSQL database version:\n",
      "('PostgreSQL 10.1, compiled by Visual C++ build 1800, 64-bit',)\n",
      "('Number of rows in table ', 29933L)\n",
      "('Number of phases ', 10)\n",
      "('Size of each phase ', 2994L)\n"
     ]
    }
   ],
   "source": [
    "conn = connect()\n",
    "cur = conn.cursor()\n",
    "\n",
    "#find total rows in db then split into 10 phase - size of each phase\n",
    "cur.execute(\"SELECT COUNT(age) FROM adult;\")\n",
    "num_of_rows = cur.fetchall()[0][0];\n",
    "print(\"Number of rows in table \", num_of_rows)\n",
    "phase = 10\n",
    "size = num_of_rows/phase+1;\n",
    "print(\"Number of phases \", phase)\n",
    "print(\"Size of each phase \", size)\n",
    "\n",
    "#query from adult\n",
    "cur.execute(\"SELECT * FROM adult;\")\n",
    "cur2 = conn.cursor()\n",
    "# for i in ['a_'+`i` for i in range(10)]:\n",
    "for i in range(10):\n",
    "    create_tbl = \"CREATE TEMP TABLE a_\" + str(i) + \" (age INTEGER,workclass VARCHAR,fnlwgt integer,education varchar, education_num integer, marital_status varchar, occupation varchar, relationship varchar, race varchar, sex varchar, capital_gain integer, capital_loss integer, hours_per_week integer,native_country varchar,data_class varchar);\"\n",
    "    cur2.execute(create_tbl)\n",
    "    commands = \"INSERT INTO a_\"+ str(i) +\" VALUES(%s, %s, %s,%s, %s, %s, %s, %s, %s, %s, %s, %s, %s, %s, %s);\"\n",
    "    results = cur.fetchmany(size) #fetching every size-rows from adult\n",
    "    for result in results:\n",
    "        #add to view i \n",
    "#         print(result)\n",
    "        cur2.execute(commands,result)"
   ]
  },
  {
   "cell_type": "code",
   "execution_count": 274,
   "metadata": {
    "collapsed": true
   },
   "outputs": [],
   "source": [
    "#closing connection or cur2 will result in dropping temp tables!"
   ]
  },
  {
   "cell_type": "markdown",
   "metadata": {},
   "source": [
    "### Pruning Optimization"
   ]
  },
  {
   "cell_type": "code",
   "execution_count": 275,
   "metadata": {
    "collapsed": true
   },
   "outputs": [],
   "source": [
    "from sklearn.preprocessing import normalize\n",
    "import scipy\n",
    "import numpy as np\n",
    "view_distances = {}\n",
    "num_of_phases = 1\n",
    "def normalization(row):\n",
    "    \"\"\"\n",
    "    Function to normalize the f(m) column\n",
    "    :param rows:\n",
    "    :return:\n",
    "    \"\"\"\n",
    "    new_row = []\n",
    "    for val in row:\n",
    "        if(val is not None):\n",
    "            new_row.append(val)\n",
    "    new_row = np.array(new_row)\n",
    "    #new_row = new_row.reshape(-1,1)\n",
    "    #print new_row\n",
    "    return normalize(new_row[:,np.newaxis], axis=0).ravel()\n",
    "    #return normalize(new_row)\n",
    "def compute_KL_divergence(target,reference):\n",
    "    if(len(target)==len(reference)):\n",
    "        return scipy.stats.entropy(target,reference)\n",
    "    else:\n",
    "        return 0\n",
    "def execute_query(conn,query):\n",
    "    \n",
    "    cur = conn.cursor()\n",
    "    cur.execute(query)\n",
    "    rows = cur.fetchall()\n",
    "    cur.close()\n",
    "    \n",
    "    return np.array(rows).T\n",
    "\n",
    "def share_opt(conn):\n",
    "    for i in range(phase):\n",
    "        for a,measures,functions in tuples:\n",
    "            for m in measures:\n",
    "                for f in functions:\n",
    "                    target_command =\"select {},{}({}) from a_{} where marital_status IN (' Married-AF-spouse', ' Married-civ-spouse', ' Married-spouse-absent', ' Separated') group  by {}\".format(a,f,m,i,a)\n",
    "                    reference_command = \"select {},{}({}) from a_{} WHERE marital_status IN (' Never-married', ' Widowed', ' Divorced') group  by {}\".format(a,f,m,i,a)\n",
    "                    target_array = execute_query(conn,target_command)\n",
    "                    reference_array = execute_query(conn,reference_command)\n",
    "                    view_distances[(a,m,f)] = compute_KL_divergence(normalization(target_array[1]), normalization(reference_array[1]))\n",
    "    print view_distances"
   ]
  },
  {
   "cell_type": "code",
   "execution_count": 276,
   "metadata": {},
   "outputs": [
    {
     "ename": "ProgrammingError",
     "evalue": "column \"realtionship\" does not exist\nLINE 1: select realtionship,avg(age) from a_0 where marital_status I...\n               ^\nHINT:  Perhaps you meant to reference the column \"a_0.relationship\".\n",
     "output_type": "error",
     "traceback": [
      "\u001b[1;31m---------------------------------------------------------------------------\u001b[0m",
      "\u001b[1;31mProgrammingError\u001b[0m                          Traceback (most recent call last)",
      "\u001b[1;32m<ipython-input-276-ab893fca6b95>\u001b[0m in \u001b[0;36m<module>\u001b[1;34m()\u001b[0m\n\u001b[1;32m----> 1\u001b[1;33m \u001b[0mshare_opt\u001b[0m\u001b[1;33m(\u001b[0m\u001b[0mconn\u001b[0m\u001b[1;33m)\u001b[0m\u001b[1;33m\u001b[0m\u001b[0m\n\u001b[0m",
      "\u001b[1;32m<ipython-input-275-9799f4d4f69f>\u001b[0m in \u001b[0;36mshare_opt\u001b[1;34m(conn)\u001b[0m\n\u001b[0;32m     40\u001b[0m                     \u001b[0mtarget_command\u001b[0m \u001b[1;33m=\u001b[0m\u001b[1;34m\"select {},{}({}) from a_{} where marital_status IN (' Married-AF-spouse', ' Married-civ-spouse', ' Married-spouse-absent', ' Separated') group  by {}\"\u001b[0m\u001b[1;33m.\u001b[0m\u001b[0mformat\u001b[0m\u001b[1;33m(\u001b[0m\u001b[0ma\u001b[0m\u001b[1;33m,\u001b[0m\u001b[0mf\u001b[0m\u001b[1;33m,\u001b[0m\u001b[0mm\u001b[0m\u001b[1;33m,\u001b[0m\u001b[0mi\u001b[0m\u001b[1;33m,\u001b[0m\u001b[0ma\u001b[0m\u001b[1;33m)\u001b[0m\u001b[1;33m\u001b[0m\u001b[0m\n\u001b[0;32m     41\u001b[0m                     \u001b[0mreference_command\u001b[0m \u001b[1;33m=\u001b[0m \u001b[1;34m\"select {},{}({}) from a_{} WHERE marital_status IN (' Never-married', ' Widowed', ' Divorced') group  by {}\"\u001b[0m\u001b[1;33m.\u001b[0m\u001b[0mformat\u001b[0m\u001b[1;33m(\u001b[0m\u001b[0ma\u001b[0m\u001b[1;33m,\u001b[0m\u001b[0mf\u001b[0m\u001b[1;33m,\u001b[0m\u001b[0mm\u001b[0m\u001b[1;33m,\u001b[0m\u001b[0mi\u001b[0m\u001b[1;33m,\u001b[0m\u001b[0ma\u001b[0m\u001b[1;33m)\u001b[0m\u001b[1;33m\u001b[0m\u001b[0m\n\u001b[1;32m---> 42\u001b[1;33m                     \u001b[0mtarget_array\u001b[0m \u001b[1;33m=\u001b[0m \u001b[0mexecute_query\u001b[0m\u001b[1;33m(\u001b[0m\u001b[0mconn\u001b[0m\u001b[1;33m,\u001b[0m\u001b[0mtarget_command\u001b[0m\u001b[1;33m)\u001b[0m\u001b[1;33m\u001b[0m\u001b[0m\n\u001b[0m\u001b[0;32m     43\u001b[0m                     \u001b[0mreference_array\u001b[0m \u001b[1;33m=\u001b[0m \u001b[0mexecute_query\u001b[0m\u001b[1;33m(\u001b[0m\u001b[0mconn\u001b[0m\u001b[1;33m,\u001b[0m\u001b[0mreference_command\u001b[0m\u001b[1;33m)\u001b[0m\u001b[1;33m\u001b[0m\u001b[0m\n\u001b[0;32m     44\u001b[0m                     \u001b[0mview_distances\u001b[0m\u001b[1;33m[\u001b[0m\u001b[1;33m(\u001b[0m\u001b[0ma\u001b[0m\u001b[1;33m,\u001b[0m\u001b[0mm\u001b[0m\u001b[1;33m,\u001b[0m\u001b[0mf\u001b[0m\u001b[1;33m)\u001b[0m\u001b[1;33m]\u001b[0m \u001b[1;33m=\u001b[0m \u001b[0mcompute_KL_divergence\u001b[0m\u001b[1;33m(\u001b[0m\u001b[0mnormalization\u001b[0m\u001b[1;33m(\u001b[0m\u001b[0mtarget_array\u001b[0m\u001b[1;33m[\u001b[0m\u001b[1;36m1\u001b[0m\u001b[1;33m]\u001b[0m\u001b[1;33m)\u001b[0m\u001b[1;33m,\u001b[0m \u001b[0mnormalization\u001b[0m\u001b[1;33m(\u001b[0m\u001b[0mreference_array\u001b[0m\u001b[1;33m[\u001b[0m\u001b[1;36m1\u001b[0m\u001b[1;33m]\u001b[0m\u001b[1;33m)\u001b[0m\u001b[1;33m)\u001b[0m\u001b[1;33m\u001b[0m\u001b[0m\n",
      "\u001b[1;32m<ipython-input-275-9799f4d4f69f>\u001b[0m in \u001b[0;36mexecute_query\u001b[1;34m(conn, query)\u001b[0m\n\u001b[0;32m     27\u001b[0m \u001b[1;33m\u001b[0m\u001b[0m\n\u001b[0;32m     28\u001b[0m     \u001b[0mcur\u001b[0m \u001b[1;33m=\u001b[0m \u001b[0mconn\u001b[0m\u001b[1;33m.\u001b[0m\u001b[0mcursor\u001b[0m\u001b[1;33m(\u001b[0m\u001b[1;33m)\u001b[0m\u001b[1;33m\u001b[0m\u001b[0m\n\u001b[1;32m---> 29\u001b[1;33m     \u001b[0mcur\u001b[0m\u001b[1;33m.\u001b[0m\u001b[0mexecute\u001b[0m\u001b[1;33m(\u001b[0m\u001b[0mquery\u001b[0m\u001b[1;33m)\u001b[0m\u001b[1;33m\u001b[0m\u001b[0m\n\u001b[0m\u001b[0;32m     30\u001b[0m     \u001b[0mrows\u001b[0m \u001b[1;33m=\u001b[0m \u001b[0mcur\u001b[0m\u001b[1;33m.\u001b[0m\u001b[0mfetchall\u001b[0m\u001b[1;33m(\u001b[0m\u001b[1;33m)\u001b[0m\u001b[1;33m\u001b[0m\u001b[0m\n\u001b[0;32m     31\u001b[0m     \u001b[0mcur\u001b[0m\u001b[1;33m.\u001b[0m\u001b[0mclose\u001b[0m\u001b[1;33m(\u001b[0m\u001b[1;33m)\u001b[0m\u001b[1;33m\u001b[0m\u001b[0m\n",
      "\u001b[1;31mProgrammingError\u001b[0m: column \"realtionship\" does not exist\nLINE 1: select realtionship,avg(age) from a_0 where marital_status I...\n               ^\nHINT:  Perhaps you meant to reference the column \"a_0.relationship\".\n"
     ]
    }
   ],
   "source": [
    "share_opt(conn)"
   ]
  },
  {
   "cell_type": "code",
   "execution_count": null,
   "metadata": {
    "collapsed": true
   },
   "outputs": [],
   "source": []
  }
 ],
 "metadata": {
  "kernelspec": {
   "display_name": "Python 2",
   "language": "python",
   "name": "python2"
  },
  "language_info": {
   "codemirror_mode": {
    "name": "ipython",
    "version": 2
   },
   "file_extension": ".py",
   "mimetype": "text/x-python",
   "name": "python",
   "nbconvert_exporter": "python",
   "pygments_lexer": "ipython2",
   "version": "2.7.14"
  }
 },
 "nbformat": 4,
 "nbformat_minor": 2
}
