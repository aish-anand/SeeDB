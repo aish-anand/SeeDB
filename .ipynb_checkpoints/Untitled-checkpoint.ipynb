{
 "cells": [
  {
   "cell_type": "markdown",
   "metadata": {},
   "source": [
    "# Connect to POSTGRE and create tables"
   ]
  },
  {
   "cell_type": "code",
   "execution_count": 2,
   "metadata": {
    "collapsed": true
   },
   "outputs": [],
   "source": [
    "import psycopg2\n",
    "from psycopg2.extensions import ISOLATION_LEVEL_AUTOCOMMIT # <-- ADD THIS LINE"
   ]
  },
  {
   "cell_type": "code",
   "execution_count": 1,
   "metadata": {
    "collapsed": true
   },
   "outputs": [],
   "source": [
    "from configparser import ConfigParser\n",
    "def config(filename='database.ini', section='postgresql'):\n",
    "    # create a parser\n",
    "    parser = ConfigParser()\n",
    "    # read config file\n",
    "    parser.read(filename)\n",
    " \n",
    "    # get section, default to postgresql\n",
    "    db = {}\n",
    "    if parser.has_section(section):\n",
    "        params = parser.items(section)\n",
    "        for param in params:\n",
    "            db[param[0]] = param[1]\n",
    "    else:\n",
    "        raise Exception('Section {0} not found in the {1} file'.format(section, filename))\n",
    " \n",
    "    return db"
   ]
  },
  {
   "cell_type": "code",
   "execution_count": 3,
   "metadata": {
    "collapsed": true
   },
   "outputs": [],
   "source": [
    "def connect():\n",
    "    \"\"\" Connect to the PostgreSQL database server returns connection \"\"\"\n",
    "    conn = None\n",
    "    try:\n",
    "        # read connection parameters\n",
    "        params = config()\n",
    " \n",
    "        # connect to the PostgreSQL server\n",
    "        print('Connecting to the PostgreSQL database...')\n",
    "        conn = psycopg2.connect(**params)\n",
    " \n",
    "        # create a cursor\n",
    "        cur = conn.cursor()\n",
    "        \n",
    " # execute a statement\n",
    "        print('PostgreSQL database version:')\n",
    "        cur.execute('SELECT version()')\n",
    " \n",
    "        # display the PostgreSQL database server version\n",
    "        db_version = cur.fetchone()\n",
    "        print(db_version)\n",
    "       \n",
    "     # close the communication with the PostgreSQL\n",
    "        cur.close()\n",
    "    except (Exception, psycopg2.DatabaseError) as error:\n",
    "        print(error)\n",
    "    finally:\n",
    "        return conn;"
   ]
  },
  {
   "cell_type": "code",
   "execution_count": null,
   "metadata": {
    "collapsed": true
   },
   "outputs": [],
   "source": [
    "def create_tables(conn):\n",
    "    \"\"\" create tables in the PostgreSQL database and load data from csv\"\"\"\n",
    "    commands = (\n",
    "        \"\"\"\n",
    "        CREATE TABLE adult (\n",
    "            age INTEGER,\n",
    "            workclass VARCHAR,\n",
    "            fnlwgt integer,\n",
    "            education varchar,\n",
    "            education_num integer,\n",
    "            marital_status varchar,\n",
    "            occupation varchar,\n",
    "            relationship varchar,\n",
    "            race varchar,\n",
    "            sex varchar,\n",
    "            capital_gain integer,\n",
    "            capital_loss integer,\n",
    "            hours_per_week integer,\n",
    "            native_country varchar,\n",
    "            data_class varchar\n",
    "        )\n",
    "        \"\"\",\n",
    "        \"\"\"\n",
    "        copy public.adult (\n",
    "            age,\n",
    "            workclass,\n",
    "            fnlwgt,\n",
    "            education,\n",
    "            education_num,\n",
    "            marital_status,\n",
    "            occupation,\n",
    "            relationship,\n",
    "            race,\n",
    "            sex,\n",
    "            capital_gain,\n",
    "            capital_loss,\n",
    "            hours_per_week,\n",
    "            native_country,\n",
    "            data_class\n",
    "        ) \n",
    "        FROM 'D:/UMass/Spring 18/645/SeeDB/adult_data.csv' \n",
    "        DELIMITER ',' CSV ENCODING 'UTF8';\n",
    "        \"\"\")\n",
    "    conn = None\n",
    "    try:\n",
    "        # read the connection parameters\n",
    "        params = config()\n",
    "        # connect to the PostgreSQL server\n",
    "#         conn = psycopg2.connect(**params)\n",
    "        cur = conn.cursor()\n",
    "        # create table one by one\n",
    "        for command in commands:\n",
    "            cur.execute(command)\n",
    "        # close communication with the PostgreSQL database server\n",
    "        cur.close()\n",
    "        # commit the changes\n",
    "        conn.commit()\n",
    "    except (Exception, psycopg2.DatabaseError) as error:\n",
    "        print(error)"
   ]
  },
  {
   "cell_type": "code",
   "execution_count": 4,
   "metadata": {
    "collapsed": true
   },
   "outputs": [],
   "source": [
    "def create_views(conn):\n",
    "    \"\"\" create views of married and unmarried, split into 10 subsets for phases\"\"\"\n",
    "    commands = (\n",
    "        \"\"\"\n",
    "        CREATE VIEW Married \n",
    "        AS SELECT * \n",
    "        FROM adult\n",
    "        WHERE marital_status IN (' Married-AF-spouse', ' Married-civ-spouse', ' Married-spouse-absent', ' Separated')\n",
    "        \"\"\",\n",
    "        \"\"\"\n",
    "        CREATE VIEW Unmarried \n",
    "        AS SELECT * \n",
    "        FROM adult\n",
    "        WHERE marital_status IN (' Never-married', ' Widowed', ' Divorced')\n",
    "        \"\"\"\n",
    "    )\n",
    "    conn = None\n",
    "    try:\n",
    "        # read the connection parameters\n",
    "        params = config()\n",
    "        # connect to the PostgreSQL server\n",
    "#         conn = psycopg2.connect(**params)\n",
    "        cur = conn.cursor()\n",
    "        # create table one by one\n",
    "        for command in commands:\n",
    "            cur.execute(command)\n",
    "        # close communication with the PostgreSQL database server\n",
    "        cur.close()\n",
    "        # commit the changes\n",
    "        conn.commit()\n",
    "    except (Exception, psycopg2.DatabaseError) as error:\n",
    "        print(error)"
   ]
  },
  {
   "cell_type": "code",
   "execution_count": 5,
   "metadata": {
    "collapsed": true
   },
   "outputs": [],
   "source": [
    "def close_connection(conn):\n",
    "    \"\"\" Close postgres connection\"\"\"\n",
    "    try:\n",
    "        if conn is not None:\n",
    "            conn.close()\n",
    "    except (Exception, psycopg2.DatabaseError) as error:\n",
    "        print(error)"
   ]
  },
  {
   "cell_type": "code",
   "execution_count": 8,
   "metadata": {
    "collapsed": true
   },
   "outputs": [],
   "source": [
    "a = [\"workclass\", \"education\", \"occupation\", \"realtionship\", \"race\", \"sex\", \"native_country\",\"data_class\"]\n",
    "m = [\"age\", \"fnlwgt\", \"hours_per_week\", \"capital_gain\", \"capital_loss\"]\n",
    "f = [\"avg\", \"sum\", \"min\", \"max\", \"count\"]"
   ]
  },
  {
   "cell_type": "code",
   "execution_count": 9,
   "metadata": {
    "collapsed": true
   },
   "outputs": [],
   "source": [
    "tuples = [(x, m, f) for x in a]"
   ]
  },
  {
   "cell_type": "code",
   "execution_count": 40,
   "metadata": {},
   "outputs": [
    {
     "name": "stderr",
     "output_type": "stream",
     "text": [
      "C:\\Users\\Admin\\Anaconda2\\lib\\site-packages\\ipykernel_launcher.py:6: DeprecationWarning: You passed a bytestring as `filenames`. This will not work on Python 3. Use `cp.read_file()` or switch to using Unicode strings across the board.\n",
      "  \n"
     ]
    },
    {
     "name": "stdout",
     "output_type": "stream",
     "text": [
      "Connecting to the PostgreSQL database...\n",
      "PostgreSQL database version:\n",
      "('PostgreSQL 10.2, compiled by Visual C++ build 1800, 64-bit',)\n",
      "None\n",
      "None\n",
      "None\n",
      "None\n",
      "None\n",
      "None\n",
      "None\n",
      "None\n",
      "None\n",
      "None\n",
      "('Number of rows in table ', 29933L)\n",
      "('Number of phases ', 10)\n",
      "('Size of each phase ', 2993L)\n"
     ]
    },
    {
     "ename": "ProgrammingError",
     "evalue": "relation \"a_0\" does not exist\nLINE 1: INSERT INTO a_0 VALUES(39, ' State-gov', 77516,' Bachelors',...\n                    ^\n",
     "output_type": "error",
     "traceback": [
      "\u001b[1;31m---------------------------------------------------------------------------\u001b[0m",
      "\u001b[1;31mProgrammingError\u001b[0m                          Traceback (most recent call last)",
      "\u001b[1;32m<ipython-input-40-c631972cb4d8>\u001b[0m in \u001b[0;36m<module>\u001b[1;34m()\u001b[0m\n\u001b[0;32m     46\u001b[0m             \u001b[1;31m#add to view i\u001b[0m\u001b[1;33m\u001b[0m\u001b[1;33m\u001b[0m\u001b[0m\n\u001b[0;32m     47\u001b[0m \u001b[1;31m#             print(type(result))\u001b[0m\u001b[1;33m\u001b[0m\u001b[1;33m\u001b[0m\u001b[0m\n\u001b[1;32m---> 48\u001b[1;33m             \u001b[0mcur\u001b[0m\u001b[1;33m.\u001b[0m\u001b[0mexecute\u001b[0m\u001b[1;33m(\u001b[0m\u001b[0mcommands\u001b[0m\u001b[1;33m,\u001b[0m\u001b[0mresult\u001b[0m\u001b[1;33m)\u001b[0m\u001b[1;33m\u001b[0m\u001b[0m\n\u001b[0m",
      "\u001b[1;31mProgrammingError\u001b[0m: relation \"a_0\" does not exist\nLINE 1: INSERT INTO a_0 VALUES(39, ' State-gov', 77516,' Bachelors',...\n                    ^\n"
     ]
    }
   ],
   "source": [
    "conn = connect()\n",
    "cur = conn.cursor()\n",
    "\n",
    "#create 10 views of adult table\n",
    "# for i in range(10):\n",
    "commands = \"\"\"CREATE TABLE a_0 (\n",
    "            age INTEGER,\n",
    "            workclass VARCHAR,\n",
    "            fnlwgt integer,\n",
    "            education varchar,\n",
    "            education_num integer,\n",
    "            marital_status varchar,\n",
    "            occupation varchar,\n",
    "            relationship varchar,\n",
    "            race varchar,\n",
    "            sex varchar,\n",
    "            capital_gain integer,\n",
    "            capital_loss integer,\n",
    "            hours_per_week integer,\n",
    "            native_country varchar,\n",
    "            data_class varchar);\"\"\"\n",
    "#        for command in commands:\n",
    "res = cur.execute(commands)\n",
    "print(res)\n",
    "\n",
    "#find total rows in db then split into 10 phase - size of each phase\n",
    "cur.execute(\"SELECT COUNT(age) FROM adult;\")\n",
    "num_of_rows = cur.fetchall()[0][0];\n",
    "print(\"Number of rows in table \", num_of_rows)\n",
    "phase = 10\n",
    "size = num_of_rows/phase;\n",
    "print(\"Number of phases \", phase)\n",
    "print(\"Size of each phase \", size)\n",
    "\n",
    "#query from adult\n",
    "cur.execute(\"SELECT * FROM adult;\")\n",
    "# for i in ['a_'+`i` for i in range(10)]:\n",
    "for i in range(10):\n",
    "    commands = 'INSERT INTO a_'+ str(i) +' VALUES(%s, %s, %s,%s, %s, %s, %s, %s, %s, %s, %s, %s, %s, %s, %s);'\n",
    "#     print(commands)\n",
    "    while True:\n",
    "        results = cur.fetchmany(size) #fetching every size-rows from adult\n",
    "        if not results:\n",
    "            break\n",
    "        for result in results:\n",
    "            #add to view i \n",
    "#             print(type(result))\n",
    "            cur.execute(commands,result)"
   ]
  }
 ],
 "metadata": {
  "kernelspec": {
   "display_name": "Python 2",
   "language": "python",
   "name": "python2"
  },
  "language_info": {
   "codemirror_mode": {
    "name": "ipython",
    "version": 2
   },
   "file_extension": ".py",
   "mimetype": "text/x-python",
   "name": "python",
   "nbconvert_exporter": "python",
   "pygments_lexer": "ipython2",
   "version": "2.7.13"
  }
 },
 "nbformat": 4,
 "nbformat_minor": 2
}
