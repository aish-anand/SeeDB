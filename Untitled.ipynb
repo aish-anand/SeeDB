{
 "cells": [
  {
   "cell_type": "markdown",
   "metadata": {},
   "source": [
    "# Connect to POSTGRE"
   ]
  },
  {
   "cell_type": "code",
   "execution_count": null,
   "metadata": {
    "collapsed": true
   },
   "outputs": [],
   "source": [
    "#Define our connection string\n",
    "conn_string = \"host='localhost' dbname='my_database' user='postgres' password='secret'\"\n",
    "# print the connection string we will use to connect\n",
    "print \"Connecting to database\\n\t->%s\" % (conn_string)\n",
    "# get a connection, if a connect cannot be made an exception will be raised here\n",
    "conn = psycopg2.connect(conn_string) \n",
    "# conn.cursor will return a cursor object, you can use this cursor to perform queries\n",
    "cursor = conn.cursor()\n",
    "print \"Connected!\\n\""
   ]
  },
  {
   "cell_type": "code",
   "execution_count": 2,
   "metadata": {
    "collapsed": true
   },
   "outputs": [],
   "source": [
    "import psycopg2\n",
    "from psycopg2.extensions import ISOLATION_LEVEL_AUTOCOMMIT # <-- ADD THIS LINE"
   ]
  },
  {
   "cell_type": "code",
   "execution_count": 3,
   "metadata": {},
   "outputs": [],
   "source": [
    "con = psycopg2.connect(dbname='census_us',\n",
    "      user='postgres', host='localhost',\n",
    "      password='aish')\n",
    "\n",
    "con.set_isolation_level(ISOLATION_LEVEL_AUTOCOMMIT) # <-- ADD THIS LINE\n",
    "\n",
    "cur = con.cursor()"
   ]
  },
  {
   "cell_type": "code",
   "execution_count": 18,
   "metadata": {
    "collapsed": true
   },
   "outputs": [],
   "source": [
    "# cur.execute(\"CREATE DATABASE census_us;\")\n",
    "cur.execute(\"CREATE TABLE adult(age INTEGER,workclass VARCHAR, fnlwgt integer,education varchar,education_num integer,marital_status varchar,\\\n",
    "occupation varchar,relationship varchar,race varchar, sex varchar,capital_gain integer,capital_loss integer,\\\n",
    "hours_per_week integer,native_country varchar, data_class varchar);\")"
   ]
  },
  {
   "cell_type": "code",
   "execution_count": 24,
   "metadata": {},
   "outputs": [],
   "source": [
    "cur.execute(\"copy public.adult (age, workclass, fnlwgt, education, education_num, marital_status, occupation, relationship, race, sex, capital_gain, capital_loss, hours_per_week, native_country, data_class) FROM 'D:/UMass/Spring 18/645/SeeDB/adult_data.csv' DELIMITER ',' CSV ENCODING 'UTF8';\")"
   ]
  }
 ],
 "metadata": {
  "kernelspec": {
   "display_name": "Python 2",
   "language": "python",
   "name": "python2"
  },
  "language_info": {
   "codemirror_mode": {
    "name": "ipython",
    "version": 2
   },
   "file_extension": ".py",
   "mimetype": "text/x-python",
   "name": "python",
   "nbconvert_exporter": "python",
   "pygments_lexer": "ipython2",
   "version": "2.7.13"
  }
 },
 "nbformat": 4,
 "nbformat_minor": 2
}
